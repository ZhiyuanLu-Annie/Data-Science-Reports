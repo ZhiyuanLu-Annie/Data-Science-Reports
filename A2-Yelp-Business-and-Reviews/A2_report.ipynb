{
 "cells": [
  {
   "cell_type": "markdown",
   "metadata": {},
   "source": [
    "*JSC270, Winter 2020 - Prof. Chevalier*\n",
    "\n",
    "# <center>  Assignment 2 - An Analysis on Yelp Businesses and Reviews </center>\n",
    "\n",
    "### <center> Zhiyuan Lu, Feburary 9 </center>\n",
    "<center>  Explore information and reviews about all businesses and GTA businesses from the Yelp Dataset</center>\n",
    "\n",
    "***"
   ]
  },
  {
   "cell_type": "markdown",
   "metadata": {},
   "source": [
    "## Part 1. Introduction\n",
    "For this assigment, I used data from Yelp Data Challenge to explore information about businesses and the reviews they received. This information would be useful for both consumers and business owners.\n",
    "\n",
    "### 1.1 Permissions  \n",
    "We are allowed to use the Yelp data to create an academic project for a course. We cannot use the data for commercial purposes and any other purposes, and we cannot create our own business listings that may compete with Yelp. We are not allowed to use the data in a way that damages Yelp's image and profits, either. Finally, we cannot share or redistribute the data."
   ]
  },
  {
   "cell_type": "markdown",
   "metadata": {},
   "source": [
    "### 1.2 Structure of dataset  \n",
    "There are six files in the Yelp dataset:    \n",
    "\n",
    "**business.json:**\n",
    "This file contains the information about every business. For each business, the following information is recorded:  \n",
    "Basic information: `business id`, `name`  \n",
    "Location: `address`, `city`, `state`, `postal code`, `latitude`, `longitude`  \n",
    "`stars`: number of stars out of 5; an indication of the overall quality of the business.    \n",
    "`review count`: number of reviews received.  \n",
    "`is open`: a variable that takes the value of 0 or 1. 0 means the business is not open, and 1 means the business is open.  \n",
    "`attributes`: a nested dictionary of attributes (e.g. 'GoodForKids', 'RestaurantsReservations') that each takes the value of True or False.  \n",
    "`categories`: a list of categories of food or service provided.  \n",
    "`hours`: a dictionary where the keys are day of the week, and the values are opening hours on each day.  "
   ]
  },
  {
   "cell_type": "markdown",
   "metadata": {},
   "source": [
    "**checkin.json:**\n",
    "This file contains the check-in log every restaurant. For each restaurant, two variables are recorded:   \n",
    "`business id`: the unique id of every restaurant.      \n",
    "`date`: a list of check-in time of a restaurant."
   ]
  },
  {
   "cell_type": "markdown",
   "metadata": {},
   "source": [
    "**photo.json:**\n",
    "This file contains the information of every photo. For each photo, four variables are recorded:  \n",
    "`caption`: description of the photo. The caption is missing for some photos.     \n",
    "`photo id`: the unique id of every photo.  \n",
    "`business id`: the id of the business where the photo is taken.  \n",
    "`label`: the content of the photo that takes a value of either \"food\", \"inside\", or \"outside\"."
   ]
  },
  {
   "cell_type": "markdown",
   "metadata": {},
   "source": [
    "**review.json:**\n",
    "This file contains the information of every review. For each review, the following information is recorded:  \n",
    "`review id`: the unique id of each review.     \n",
    "`user id`: the id of the user who wrote this review.  \n",
    "`business id`: the id of the business which the review is written for.  \n",
    "`stars`: number of stars out of 5; an indication of the overall quality of the restaurant.    \n",
    "`useful`: number of users who thought this review is useful.  \n",
    "`funny`: number of users who thought this review is funny.  \n",
    "`cool`: number of users who thought this review is cool.  \n",
    "`text`: the content of the review."
   ]
  },
  {
   "cell_type": "markdown",
   "metadata": {},
   "source": [
    "**tip.json:**\n",
    "This file contains a short tip written by users. For each tip, five variables are recorded:  \n",
    "`text`: text of the tip.     \n",
    "`date`: when the tip was written, formatted like YYYY-MM-DD.  \n",
    "`business id`: the id of the restaurant where the tip is for.    \n",
    "`user_id`: user who wrote this tip.   \n",
    "`compliment count`: how many compliments it has."
   ]
  },
  {
   "cell_type": "markdown",
   "metadata": {},
   "source": [
    "**user.json:**\n",
    "This file contains the information of every user. For each user, the following information is recorded:  \n",
    "`user id`: the unique id of the user.  \n",
    "`name`: name of user.  \n",
    "`review count`: number of reviews this user has written.  \n",
    "`yelping since`: time when registered.  \n",
    "`useful`/`funny`/`cool`: number of \"useful/funny/cool\" votes this user received.  \n",
    "`elite`: a list of the years when the user reaches elite status.  \n",
    "`friends`: a list of user ids of the user's friends.  \n",
    "`fans`: number of fans the user has.  \n",
    "`average stars`: average rating of all reviews."
   ]
  },
  {
   "cell_type": "code",
   "execution_count": 1,
   "metadata": {},
   "outputs": [],
   "source": [
    "import warnings\n",
    "warnings.filterwarnings(\"ignore\")"
   ]
  },
  {
   "cell_type": "code",
   "execution_count": 2,
   "metadata": {},
   "outputs": [],
   "source": [
    "import json  \n",
    "import pandas as pd  \n",
    "from pandas.io.json import json_normalize  \n",
    "\n",
    "import seaborn as sns\n",
    "sns.set(style=\"whitegrid\")\n",
    "import matplotlib.pyplot as plt\n",
    "\n",
    "from geopy.geocoders import Nominatim\n",
    "from geopy.exc import GeocoderTimedOut\n",
    "\n",
    "import plotly.express as px\n",
    "import plotly.graph_objects as go\n",
    "\n",
    "from IPython.core.display import HTML, Latex\n",
    "from fuzzywuzzy import fuzz\n",
    "\n",
    "import nltk\n",
    "from nltk.corpus import stopwords \n",
    "from nltk.tokenize import word_tokenize \n",
    "from textblob import TextBlob\n",
    "from wordcloud import WordCloud, STOPWORDS, ImageColorGenerator\n",
    "from collections import Counter"
   ]
  },
  {
   "cell_type": "code",
   "execution_count": 3,
   "metadata": {},
   "outputs": [],
   "source": [
    "import geopy.distance"
   ]
  },
  {
   "cell_type": "markdown",
   "metadata": {},
   "source": [
    "## Data Cleaning\n",
    "\n",
    "We will use data of all businesses from business.json. First, I will read the json data by each row, and normalize to expand the nested dictionary of the `attributes`."
   ]
  },
  {
   "cell_type": "code",
   "execution_count": 4,
   "metadata": {},
   "outputs": [
    {
     "ename": "NameError",
     "evalue": "name 'frames' is not defined",
     "output_type": "error",
     "traceback": [
      "\u001b[1;31m---------------------------------------------------------------------------\u001b[0m",
      "\u001b[1;31mNameError\u001b[0m                                 Traceback (most recent call last)",
      "\u001b[1;32m<ipython-input-4-d5c7cafd96c6>\u001b[0m in \u001b[0;36m<module>\u001b[1;34m\u001b[0m\n\u001b[0;32m      5\u001b[0m     \u001b[1;31m# normalize to expand attributeds\u001b[0m\u001b[1;33m\u001b[0m\u001b[1;33m\u001b[0m\u001b[1;33m\u001b[0m\u001b[0m\n\u001b[0;32m      6\u001b[0m     \u001b[0mcurr\u001b[0m \u001b[1;33m=\u001b[0m \u001b[0mjson_normalize\u001b[0m\u001b[1;33m(\u001b[0m\u001b[0mdata\u001b[0m\u001b[1;33m,\u001b[0m \u001b[0mmax_level\u001b[0m\u001b[1;33m=\u001b[0m\u001b[1;36m1\u001b[0m\u001b[1;33m)\u001b[0m\u001b[1;33m\u001b[0m\u001b[1;33m\u001b[0m\u001b[0m\n\u001b[1;32m----> 7\u001b[1;33m     \u001b[0mframes\u001b[0m\u001b[1;33m.\u001b[0m\u001b[0mappend\u001b[0m\u001b[1;33m(\u001b[0m\u001b[0mcurr\u001b[0m\u001b[1;33m)\u001b[0m\u001b[1;33m\u001b[0m\u001b[1;33m\u001b[0m\u001b[0m\n\u001b[0m\u001b[0;32m      8\u001b[0m \u001b[1;33m\u001b[0m\u001b[0m\n\u001b[0;32m      9\u001b[0m     \u001b[0mresults\u001b[0m \u001b[1;33m=\u001b[0m \u001b[0mpd\u001b[0m\u001b[1;33m.\u001b[0m\u001b[0mconcat\u001b[0m\u001b[1;33m(\u001b[0m\u001b[0mframes\u001b[0m\u001b[1;33m,\u001b[0m \u001b[0msort\u001b[0m\u001b[1;33m=\u001b[0m\u001b[1;32mFalse\u001b[0m\u001b[1;33m)\u001b[0m\u001b[1;33m\u001b[0m\u001b[1;33m\u001b[0m\u001b[0m\n",
      "\u001b[1;31mNameError\u001b[0m: name 'frames' is not defined"
     ]
    }
   ],
   "source": [
    "# Load data from json\n",
    "for line in open('business_s.json', 'r', encoding='utf8'):\n",
    "    # read each business line by line\n",
    "    data = json.loads(line)\n",
    "    # normalize to expand attributeds\n",
    "    curr = json_normalize(data, max_level=1)\n",
    "    frames.append(curr)\n",
    "    \n",
    "    results = pd.concat(frames, sort=False)\n",
    "\n",
    "# save a csv file for later use    \n",
    "# results.to_csv('business_expanded.csv', index=False)"
   ]
  },
  {
   "cell_type": "code",
   "execution_count": 5,
   "metadata": {},
   "outputs": [],
   "source": [
    "# if the above cell takes too long to run, run this cell instead\n",
    "business = pd.read_csv('business_expanded.csv')"
   ]
  },
  {
   "cell_type": "markdown",
   "metadata": {},
   "source": [
    "The `city` column in the business dataset has the following problems that need to be addressed in data cleaning:\n",
    "1. The city information in one row is missing.\n",
    "2. Extra whitespace between words.  \n",
    "3. Some entries include the state information.  \n",
    "4. Some entries use all upperclass or lowerclass characters.  \n",
    "5. Special characters are not correctly shown, for example, French letters in 'Montreal'.  \n",
    "6. Spelling mistakes.  \n",
    "\n",
    "First, I will fix problem 1 by finding the city with the latitude and longitude of this business."
   ]
  },
  {
   "cell_type": "code",
   "execution_count": 7,
   "metadata": {},
   "outputs": [],
   "source": [
    "no_city = business[business[\"city\"].isnull()]"
   ]
  },
  {
   "cell_type": "code",
   "execution_count": 8,
   "metadata": {},
   "outputs": [
    {
     "name": "stdout",
     "output_type": "stream",
     "text": [
      "East Warner Road, Mesa, Maricopa County, Arizona, 85212, United States of America\n"
     ]
    }
   ],
   "source": [
    "geolocator = Nominatim(user_agent=\"my-application\")\n",
    "place = str(no_city.iloc[0].latitude) + \", \" + str(no_city.iloc[0].longitude)\n",
    "\n",
    "# get address of the business by reversing from (lat, lon)\n",
    "location = geolocator.reverse(place)\n",
    "print(location.address)"
   ]
  },
  {
   "cell_type": "code",
   "execution_count": 9,
   "metadata": {},
   "outputs": [],
   "source": [
    "business = business.replace({'city': {business.iloc[34070]['city']: 'Maricopa'}})"
   ]
  },
  {
   "cell_type": "markdown",
   "metadata": {},
   "source": [
    "Problem 2-4 can be easily fixed with python functions. "
   ]
  },
  {
   "cell_type": "code",
   "execution_count": 10,
   "metadata": {},
   "outputs": [],
   "source": [
    "def clean_city(string):\n",
    "    '''\n",
    "    Clean the city name. The input city is a string of the city name.\n",
    "    This function returns the cleaned name of the city.\n",
    "    '''\n",
    "    # Split by ',' and only keep the first part, to remove state information after ','\n",
    "    result = string.strip().split(',')\n",
    "    result = result[0]\n",
    "    # Clean the string word by word\n",
    "    result = result.split(' ')\n",
    "    \n",
    "    name = ''\n",
    "    for i in range(len(result)):\n",
    "        # remove extra whitespace between words\n",
    "        if result[i] != '':\n",
    "            # capitalize each word\n",
    "            name = name + result[i].capitalize() + ' '\n",
    "    \n",
    "    # remove whitespace\n",
    "    name = name.strip()\n",
    "    return name"
   ]
  },
  {
   "cell_type": "code",
   "execution_count": 11,
   "metadata": {},
   "outputs": [],
   "source": [
    "business['city'] = business.apply(lambda x: clean_city(x['city']),axis=1)"
   ]
  },
  {
   "cell_type": "markdown",
   "metadata": {},
   "source": [
    "For problem 5, most of cities with French letters in city name are in Quebec, Canada. I only fixed the name for Montreal, because many businesses in Montreal are recorded in the dataset. However, I left the other city names unchanged, because it would be too time-consuming to manually search and fix the name for every city, and I will not use information from these cities in later analysis."
   ]
  },
  {
   "cell_type": "code",
   "execution_count": 12,
   "metadata": {},
   "outputs": [],
   "source": [
    "# Replace incorrect spellings of Montreal\n",
    "business = business.replace({'city': '^Mont.*$'}, {'city': 'Montreal'}, regex=True)"
   ]
  },
  {
   "cell_type": "markdown",
   "metadata": {},
   "source": [
    "For problem 6, I matched the city and state using Nominatim with Geopy. If the latitude and longitude of a city can be found, I would consider the city name is correct. For city names that cannot be matched, I used fuzzywuzzy to correct the spelling mistakes. After fixing problem 1-4, there are 1103 distinct (city, state) pairs in the original business dataset, 1008 cities are matched using Nominatim, and 95 are unmatched. After fuzz matching, 44 cities are still unmatched, and I excluded these 44 cities in my analysis."
   ]
  },
  {
   "cell_type": "code",
   "execution_count": 13,
   "metadata": {},
   "outputs": [],
   "source": [
    "# get latitude and longitude of city by calculating the mean latitude and longitude of all businesses in this city\n",
    "# get mean stars and review counts of businesses in a city\n",
    "city_loc = business.groupby(['city', 'state'])['latitude', 'longitude', 'stars', 'review_count'].mean()\\\n",
    "            .reset_index()\n",
    "\n",
    "# get total number of businesses of a city\n",
    "cities = business.groupby(['city', 'state'])['city'].count().reset_index(name='count')\n",
    "\n",
    "# combine to a single dataframe                                           \n",
    "cities = pd.merge(city_loc, cities, on=['city', 'state']).sort_values(['count'], ascending=False)"
   ]
  },
  {
   "cell_type": "code",
   "execution_count": null,
   "metadata": {},
   "outputs": [],
   "source": [
    "rows= []\n",
    "not_found = []\n",
    "\n",
    "for i in range(len(cities)):\n",
    "    other_cols = cities.iloc[i]\n",
    "    other_cols = other_cols.to_dict()\n",
    "    \n",
    "    geolocator = Nominatim(user_agent=\"my-application\")\n",
    "    # match by city and state\n",
    "    place = cities.iloc[i]['city'] + ',' + cities.iloc[i]['state']\n",
    "    \n",
    "    try:\n",
    "        location = geolocator.geocode(place, timeout=10)\n",
    "    except GeocoderTimedOut as e:\n",
    "        print(\"Error: geocode failed on input %s\"%(place)) \n",
    "    \n",
    "    if location is not None: # city is matched, meaning the name is correct\n",
    "        rows.append(other_cols)\n",
    "    else: # incorrect city name\n",
    "        not_found.append(other_cols)\n",
    "\n",
    "# create a new df\n",
    "city_df = pd.DataFrame(rows)\n",
    "not_found = pd.DataFrame(not_found)"
   ]
  },
  {
   "cell_type": "code",
   "execution_count": null,
   "metadata": {},
   "outputs": [],
   "source": [
    "matched = {}\n",
    "for idx, miss in not_found.iterrows():\n",
    "    max_score = 0\n",
    "    max_index = 0\n",
    "    \n",
    "    # Compare the similarity of the incorrect city name to each correct city name \n",
    "    for i, exist in city_df[['city', 'state', 'count']].iterrows():\n",
    "        score = fuzz.ratio(miss['city'], exist['city'])\n",
    "        \n",
    "        if score > 80 and score > max_score and miss['state'] == exist['state']:\n",
    "            max_score = score\n",
    "            max_index = i\n",
    "            not_found.at[idx, 'city'] = exist['city']    \n",
    "    \n",
    "    # warn if the city cannot be matched\n",
    "    if max_score > 80:\n",
    "        matched[miss['city']] = not_found.at[idx, 'city']\n",
    "        city_df.at[i, 'count'] += not_found.at[idx, 'count']"
   ]
  },
  {
   "cell_type": "markdown",
   "metadata": {},
   "source": [
    "I replaced the misspelled city names with correct names, and saved this dataframe to csv for later use."
   ]
  },
  {
   "cell_type": "code",
   "execution_count": null,
   "metadata": {},
   "outputs": [],
   "source": [
    "business = business.replace({'city':matched})"
   ]
  },
  {
   "cell_type": "code",
   "execution_count": null,
   "metadata": {},
   "outputs": [],
   "source": [
    "business.to_csv(\"business_cleaned.csv\", index=False)"
   ]
  },
  {
   "cell_type": "code",
   "execution_count": null,
   "metadata": {},
   "outputs": [],
   "source": [
    "# city_df.to_csv('cities.csv', index=False)"
   ]
  },
  {
   "cell_type": "markdown",
   "metadata": {},
   "source": [
    "## Part 2 Investigating All Businesses\n",
    "### 2.1 What cities does this dataset encompass?"
   ]
  },
  {
   "cell_type": "markdown",
   "metadata": {},
   "source": [
    "We can plot a map of all the cities encompassed in the dataset. The map shows obvious clustering around cities with most businesses recorded, for example, there are clusters around Las Vegas in Nevada, Phoenix in Arizona, Charlotte in North Carolina, Pittsburgh in Pennsyvalnia, Toronto in Ontario, and Montreal in Quebec. This is because around those major cities, many businesses are recorded under the name of smaller neighbouring cities or counties."
   ]
  },
  {
   "cell_type": "code",
   "execution_count": null,
   "metadata": {},
   "outputs": [],
   "source": [
    "fig = px.scatter_mapbox(city_df, lat=\"latitude\", lon=\"longitude\", hover_name=\"city\", hover_data=[\"count\"],\n",
    "                        opacity=0.2, zoom=3, height=500)\n",
    "fig.update_layout(mapbox_style=\"open-street-map\")\n",
    "fig.update_layout(margin={\"r\":0,\"t\":0,\"l\":0,\"b\":0})\n",
    "fig.show()"
   ]
  },
  {
   "cell_type": "markdown",
   "metadata": {},
   "source": [
    "<center>\n",
    "    <img src=\"map1.png\"></img>\n",
    "</center>"
   ]
  },
  {
   "cell_type": "markdown",
   "metadata": {},
   "source": [
    "#### Limitations\n",
    "1. The definition of \"city\" in this data set is ambiguous. Should a county or district under a city be considered separately or included in the main city? In this dataset we see both happen."
   ]
  },
  {
   "cell_type": "markdown",
   "metadata": {},
   "source": [
    "### 2.2 What are the most frequent business categories overall? "
   ]
  },
  {
   "cell_type": "markdown",
   "metadata": {},
   "source": [
    "First, I splitted the list of categories to count each category separately. For this analysis, I only considered opening businesses."
   ]
  },
  {
   "cell_type": "code",
   "execution_count": null,
   "metadata": {},
   "outputs": [],
   "source": [
    "def explode_categories(df, top):\n",
    "    \"\"\"\n",
    "    Explode the list of categories information of dataframe df,\n",
    "    group by a list of columns col,\n",
    "    and return a dataframe containing the most popular categories by count.\n",
    "    \"\"\"\n",
    "    df_explode = df.assign(categories = df.categories.str.split(', ')).explode('categories')\n",
    "    popular = df_explode.groupby(['categories'])['categories'].count().reset_index(name='count') \\\n",
    "                             .sort_values(['count'], ascending=False).head(top)\n",
    "    \n",
    "    return popular"
   ]
  },
  {
   "cell_type": "code",
   "execution_count": null,
   "metadata": {},
   "outputs": [],
   "source": [
    "popular = explode_categories(business, 15)\n",
    "\n",
    "# select open businesses only\n",
    "business_open = business[business['is_open']==1]\n",
    "popular_open = explode_categories(business_open, 15)"
   ]
  },
  {
   "cell_type": "code",
   "execution_count": null,
   "metadata": {},
   "outputs": [],
   "source": [
    "def plot_stacked_h(df1, df2, color, title):\n",
    "    \"\"\"\n",
    "    Create a stacked bar plot for number of open and total businesses.\n",
    "    \"\"\"\n",
    "    # Initialize the matplotlib figure\n",
    "    f, ax = plt.subplots(figsize=(16, 8))\n",
    "\n",
    "    plt.title(title, fontdict = {'fontsize' : 16})\n",
    "\n",
    "    # Plot total businesses\n",
    "    sns.set_color_codes(\"pastel\")\n",
    "    sns.barplot(x = 'count',\n",
    "                y = 'categories',\n",
    "                color = color,\n",
    "                label = 'Total',\n",
    "                data = df1)\n",
    "\n",
    "    # Plot open businesses\n",
    "    sns.set_color_codes(\"muted\")\n",
    "    sns.barplot(x = 'count',\n",
    "                y = 'categories',\n",
    "                color = color,\n",
    "                label = 'Open',\n",
    "                data = df2)\n",
    "\n",
    "    # Add a legend and informative axis label\n",
    "    ax.legend(ncol=2, loc=\"lower right\", frameon=True)\n",
    "    ax.set(ylabel='',\n",
    "           xlabel=\"Number of businesses\")\n",
    "    sns.despine(left=True, bottom=True)\n",
    "\n",
    "    plt.show()"
   ]
  },
  {
   "cell_type": "code",
   "execution_count": null,
   "metadata": {},
   "outputs": [],
   "source": [
    "plot_stacked_h(popular, popular_open, \n",
    "               'b', \n",
    "               \"Number of total and open businesses in the top 15 most popular categories\")"
   ]
  },
  {
   "cell_type": "markdown",
   "metadata": {},
   "source": [
    "The most popular categories among all businesses are Restaurants, Shopping, Food, Home Services, and Beauty & Spas. While Restaurants is the most popular category, it also has the highest number of closed businesses.  \n",
    "Next, I decided to look further into food-related businesses and find the most popular sub-categories in Restaurants and Food."
   ]
  },
  {
   "cell_type": "code",
   "execution_count": null,
   "metadata": {},
   "outputs": [],
   "source": [
    "# select food-related businesses\n",
    "food = business[business['categories'].str.contains(\n",
    "                         'Restaurants|Food', case=False, na=False)]\n",
    "\n",
    "popular_food = explode_categories(food, 17)\n",
    "# remove rows of 'Restaurants' and 'food'\n",
    "popular_food = popular_food[2:]\n",
    "\n",
    "# select open restaurants only\n",
    "food_open = food[food['is_open']==1]\n",
    "popular_food_open = explode_categories(food_open, 17)\n",
    "popular_food_open = popular_food_open[2:]"
   ]
  },
  {
   "cell_type": "code",
   "execution_count": null,
   "metadata": {},
   "outputs": [],
   "source": [
    "plot_stacked_h(popular_food, popular_food_open, \n",
    "               'm', \n",
    "               \"Number of total and open restaurants in the top 15 most popular categories of restaurants\")"
   ]
  },
  {
   "cell_type": "markdown",
   "metadata": {},
   "source": [
    "Nightlife, Fast Food, and Bars are the most popular. We also see American(Traditional) and American(New) among the top 15 categories, which is expected as the dataset contains businesses in North America, with a lot of them in the United States."
   ]
  },
  {
   "cell_type": "markdown",
   "metadata": {},
   "source": [
    "#### Limitations\n",
    "1. I did not clean the category names using fuzzywuzzy. There could be misspelled names or abbrevations.\n",
    "2. Many of the businesses in the original dataset do not have complete information about all categories. For example, some may be only labeled with 'Restaurant', without any of the sub-categories."
   ]
  },
  {
   "cell_type": "markdown",
   "metadata": {},
   "source": [
    "### 2.3 What types of establishments tend to have bike parking?"
   ]
  },
  {
   "cell_type": "markdown",
   "metadata": {},
   "source": [
    "In the dataset of 192609 businesses, 66331 of them (34.4%) have bike parking, 18880 (9.8%) don't have bike parking, and the information is missing for 107398 businesses (55.8%). "
   ]
  },
  {
   "cell_type": "markdown",
   "metadata": {},
   "source": [
    "First, I choose to zoom in on the top 10 cities with most businesses recorded, and calculate the ratio of businesses with bike parking in each of these 10 cities. I then calculated the ratio difference of each city with the average business-with-bike-parking ratio of all businesses in the dataset."
   ]
  },
  {
   "cell_type": "code",
   "execution_count": null,
   "metadata": {},
   "outputs": [],
   "source": [
    "# find business whose bike parking attribute is true\n",
    "bike_parking = business[business['attributes.BikeParking'] == 'True']\n",
    "\n",
    "# find business whose bike parking attribute is false\n",
    "no_bike_parking = business[business['attributes.BikeParking'] == 'False']\n",
    "\n",
    "# find business does not have bike parking attribute\n",
    "missing_info = business[business['attributes.BikeParking'].isna()]\\\n",
    "            .append(business[business['attributes.BikeParking'] == 'None'])"
   ]
  },
  {
   "cell_type": "code",
   "execution_count": null,
   "metadata": {},
   "outputs": [],
   "source": [
    "# select top 10 cities with most businesses\n",
    "top_cities = business.groupby(['city'])['city'].count()\\\n",
    "            .reset_index(name='count').sort_values('count', ascending=False).head(10)\n",
    "\n",
    "# create a list of city names of the 10 cities\n",
    "top_cities = top_cities['city'].to_list()\n",
    "\n",
    "# select businesses in these 10 cities\n",
    "major_city_business = business.loc[business['city'].isin(top_cities)]"
   ]
  },
  {
   "cell_type": "code",
   "execution_count": null,
   "metadata": {},
   "outputs": [],
   "source": [
    "ratio = []\n",
    "\n",
    "for city in top_cities:\n",
    "    # select businesses in this city\n",
    "    city_business = major_city_business.loc[major_city_business['city'] == city]\n",
    "    # select businesses with bike\n",
    "    with_bike = city_business[city_business['attributes.BikeParking'] == 'True']\n",
    "    \n",
    "    # calculate ratio difference between this city and the average among all cities\n",
    "    city_ratio = len(with_bike) / len(city_business) - len(bike_parking) / len(business)\n",
    "    ratio.append(city_ratio)"
   ]
  },
  {
   "cell_type": "code",
   "execution_count": null,
   "metadata": {},
   "outputs": [],
   "source": [
    "bike_parking_ratio = pd.DataFrame({'city':top_cities,\n",
    "                     'ratio difference': ratio}).sort_values('ratio difference', ascending=False)\n",
    "\n",
    "# create a categorical variable to plot different colors for positive and negative values\n",
    "bike_parking_ratio['positive'] = bike_parking_ratio['ratio difference'] > 0"
   ]
  },
  {
   "cell_type": "code",
   "execution_count": null,
   "metadata": {},
   "outputs": [],
   "source": [
    "plt.figure(figsize=(12,7))\n",
    "plt.title('Business-with-bike-parking ratio difference between each city and average among all businesses',\n",
    "          fontdict = {'fontsize' : 16})\n",
    "#plt.xticks(rotation=30)\n",
    "\n",
    "sns.barplot(y = 'ratio difference',\n",
    "            x = 'city',\n",
    "            hue = 'positive',\n",
    "            data = bike_parking_ratio)\n",
    "\n",
    "plt.legend('',frameon=False)\n",
    "plt.xlabel('')\n",
    "plt.show()"
   ]
  },
  {
   "cell_type": "markdown",
   "metadata": {},
   "source": [
    "In the top 10 cities with most businesses from this dataset, all three Canadian cities--Toronto, Montreal, and Calgary--have a higher ratio of business with bike parking than the average. On the contrary, the only city in the US that does relatively well in terms of bike parking is Pittsburge, and while Las Vegas and Phoenix are the top 2 US cities in terms of number of businesses, they perform the worst to provide bike parking among the 10 cities. This results aligns with our general impression of the United States as \"a nation on wheels\". According to a list of 20 most bike friendly cities in the world in 2019 from WIRED (https://www.wired.com/story/most-bike-friendly-cities-2019-copenhagenize-design-index/), the only North America cities on the list are Vancouver and Montreal."
   ]
  },
  {
   "cell_type": "markdown",
   "metadata": {},
   "source": [
    "Then I look at the business-with-bike-parking ratio by categories. I considered the top 10 popular categories, and businesses containing 'bike' in their categories. "
   ]
  },
  {
   "cell_type": "code",
   "execution_count": null,
   "metadata": {},
   "outputs": [],
   "source": [
    "# select 10 of the most popular categories\n",
    "top_categories = popular.head(10)\n",
    "top_categories = top_categories['categories'].to_list()\n",
    "\n",
    "# add category 'bike'\n",
    "top_categories.append('bike')"
   ]
  },
  {
   "cell_type": "code",
   "execution_count": null,
   "metadata": {},
   "outputs": [],
   "source": [
    "category_ratio = []\n",
    "\n",
    "# calculate ratio by category\n",
    "for category in top_categories:\n",
    "    category_business = business[business['categories'].str.contains(category, case=False, na=False)]\n",
    "    with_bike = category_business[category_business['attributes.BikeParking'] == 'True']\n",
    "    curr_ratio = len(with_bike) / len(category_business)\n",
    "    category_ratio.append(curr_ratio)\n",
    "\n",
    "# create dataframe    \n",
    "bike_category_ratio = pd.DataFrame({'category':top_categories,\n",
    "                     'ratio': category_ratio}).sort_values('ratio', ascending=False)\n",
    "bike_category_ratio['positive'] = bike_category_ratio['ratio'] > len(bike_parking) / len(business)"
   ]
  },
  {
   "cell_type": "code",
   "execution_count": null,
   "metadata": {},
   "outputs": [],
   "source": [
    "plt.figure(figsize=(10,6))\n",
    "plt.title('Ratio of businesses with bike parking by category', fontdict = {'fontsize' : 16})\n",
    "\n",
    "sns.barplot(x = 'ratio',\n",
    "            y = 'category',\n",
    "            color = 'm',\n",
    "            data = bike_category_ratio)\n",
    "\n",
    "plt.axvline(len(bike_parking) / len(business), linewidth=1, color='grey', linestyle='--', label = \"average ratio\")\n",
    "plt.legend('',frameon=False)\n",
    "plt.ylabel('')\n",
    "plt.xlabel('ratio of businesses with bike parking')\n",
    "plt.show()"
   ]
  },
  {
   "cell_type": "markdown",
   "metadata": {},
   "source": [
    "Most bike-related businesses provide bike parking, as expected. In contrast, very few automotive businesses provide bike parking. It is interesting that 'Food' has a higher ratio of bike parking than 'Restaurants'. To further investigate this phenominon, I selected all the businesses with categories containing 'Food' but not 'Restaurants'. There are 15212 such businesses, and 8818 of them provide bike parking. The bike-parking ratio of 'Food-but-not-Restaurant' is 58.0%, which is relatively high among all categories, and higher than both 'Food' and 'Restaurant'."
   ]
  },
  {
   "cell_type": "markdown",
   "metadata": {},
   "source": [
    "I'm interested in the difference between 'Food' and 'Restaurant'. To investigate what causes the higher ratio of 'Food' than 'Restaurants', I selected businesses with only 'Food' in their categories but not 'Restaurants', and plot the most popular subcategories with a bar chart. There are 8812 businesses with categories 'Food' but not 'Restaurants' with bike parking."
   ]
  },
  {
   "cell_type": "code",
   "execution_count": null,
   "metadata": {},
   "outputs": [],
   "source": [
    "food_business = business[business['categories'].str.contains('food', case=False, na=False)]\n",
    "restaurant_business = food_business[food_business['categories'].str.contains('Restaurant', case=False, na=False)]\\\n",
    "                    .index\n",
    "\n",
    "# select food-but-not-restaurant businesses \n",
    "food_business.drop(restaurant_business, inplace=True)"
   ]
  },
  {
   "cell_type": "code",
   "execution_count": null,
   "metadata": {},
   "outputs": [],
   "source": [
    "# select with bike parking businesses\n",
    "food_only = food_business[food_business['attributes.BikeParking']=='True']"
   ]
  },
  {
   "cell_type": "code",
   "execution_count": null,
   "metadata": {},
   "outputs": [],
   "source": [
    "food_only_category = explode_categories(food_only, 11)\n",
    "# exclude the first row of 'food'\n",
    "food_only_category = food_only_category[1:]"
   ]
  },
  {
   "cell_type": "code",
   "execution_count": null,
   "metadata": {},
   "outputs": [],
   "source": [
    "plt.figure(figsize=(12,6))\n",
    "plt.title('Top categories of food-but-not-restaurant businesses with bike parking',fontdict = {'fontsize' : 16})\n",
    "\n",
    "sns.barplot(x = 'count',\n",
    "            y = 'categories',\n",
    "            color = 'g',\n",
    "            data = food_only_category)\n",
    "\n",
    "plt.ylabel('')\n",
    "plt.xlabel('Number of businesses')\n",
    "plt.show()"
   ]
  },
  {
   "cell_type": "markdown",
   "metadata": {},
   "source": [
    "We can see that most of them are related to drinks, snacks, or shopping, and people ususally spend less time in these businesses rather than actual restaurants for meals. Businesses such as coffee/tea shops or grocery stores might have a larger need to support biking, as more people would ride a bike for a short travel from home to these stores and go back."
   ]
  },
  {
   "cell_type": "markdown",
   "metadata": {},
   "source": [
    "#### Limitations\n",
    "1. There are four distinct values in the column of bike parking ('True', 'False', 'None', nan). It is ambiguous what 'None' stands for, and I can't find an explanation in the documentation from Yelp (https://www.yelp.com/dataset/documentation/main). I intrepret 'None' the same as nan, but it could mean that 'There is no bike parking', i.e. same to 'False'.  "
   ]
  },
  {
   "cell_type": "markdown",
   "metadata": {},
   "source": [
    "### 2.4 Relationship between number of reviews and ratings"
   ]
  },
  {
   "cell_type": "markdown",
   "metadata": {},
   "source": [
    "There are a few businesses with a large number of reviews. I excluded the outliers using the method of interquantile range, and visualize the distribution of review counts by rating."
   ]
  },
  {
   "cell_type": "code",
   "execution_count": null,
   "metadata": {},
   "outputs": [],
   "source": [
    "# drop out the outliers\n",
    "def remove(df):\n",
    "    q1 = df['review_count'].quantile(0.25)\n",
    "    q3 = df['review_count'].quantile(0.75)\n",
    "    IQR = q3 - q1\n",
    "    return df[(df['review_count'] < (q3 + 1.5 * IQR)) & (df['review_count'] > (q1 - 1.5 * IQR))]\n",
    "\n",
    "rating_review = remove(rating_review)"
   ]
  },
  {
   "cell_type": "code",
   "execution_count": null,
   "metadata": {},
   "outputs": [],
   "source": [
    "plt.figure(figsize=(10,6))\n",
    "sns.boxplot(y=\"review_count\", x=\"stars\", data=rating_review, palette='pastel')\n",
    "plt.title(\"Distribution of review counts by rating\",fontdict = {'fontsize' : 16})\n",
    "plt.ylabel('review count')\n",
    "plt.xlabel('rating')\n",
    "plt.show()"
   ]
  },
  {
   "cell_type": "markdown",
   "metadata": {},
   "source": [
    "Generally, businesses do not receive many reviews, as the median review count for all ratings are below 10. We can see that businesses with an average rating of 1 star and 5 stars have fewer reviews than businesses with other ratings. This is probably because that it is rare for a lot of customers to have the same extreme review on businesses, so that an extremely low or high rating is likely to be caused by a low number of reviews."
   ]
  },
  {
   "cell_type": "markdown",
   "metadata": {},
   "source": [
    "#### Limitations\n",
    "1. We lose some of the valid information by removing businesses with a lot of reviews. In future analysis, we can investigate if there is any relationship between review count and ratings for businesses that receive a lot of reviews.\n",
    "2. The relationship between number of reviews and ratings may vary among different categories. We could compare the relationship is different between Restaurants, Shopping, Health-related businesses, etc."
   ]
  },
  {
   "cell_type": "markdown",
   "metadata": {},
   "source": [
    "## Part 3. A Closer Look on Businesses in the GTA"
   ]
  },
  {
   "cell_type": "markdown",
   "metadata": {},
   "source": [
    "I selected businesses in the Greater Toronto Area (GTA) according to the list 'Municipalities in Greater Toronto Area and related CMAs' from WikiPedia. There are 25 subdivisions in the GTA, and if the city name matches with any of the subdivisions, I would include the business in this part of analysis."
   ]
  },
  {
   "cell_type": "code",
   "execution_count": null,
   "metadata": {},
   "outputs": [],
   "source": [
    "url = \"https://en.wikipedia.org/wiki/Greater_Toronto_Area\"\n",
    "df = pd.read_html(url, header=0)\n",
    "gta = df[1]\n",
    "# remove the last four rows (doesn't belong to GTA)\n",
    "gta = gta[:-4]\n",
    "gta = gta['Census subdivision'].tolist()"
   ]
  },
  {
   "cell_type": "code",
   "execution_count": null,
   "metadata": {},
   "outputs": [],
   "source": [
    "# select businesses with city name the same as one of the subdivisions\n",
    "gta_business = business.loc[business['city'].isin(gta)]"
   ]
  },
  {
   "cell_type": "code",
   "execution_count": null,
   "metadata": {},
   "outputs": [],
   "source": [
    "# gta_business.to_csv(\"gta_business.csv\", index=False)"
   ]
  },
  {
   "cell_type": "code",
   "execution_count": null,
   "metadata": {},
   "outputs": [],
   "source": [
    "# gta_business = pd.read_csv('gta_business.csv')"
   ]
  },
  {
   "cell_type": "markdown",
   "metadata": {},
   "source": [
    "3.1. What are the most frequent business categories? How do they compare against the trends listed in Part 2?\n",
    "\n",
    "3.2. What are the top franchises in the city?\n",
    "\n",
    "3.3. Does business location play an important role in reviews?\n",
    "\n",
    "3.4. Is it true that for every Tim Hortons in the GTA there is a Starbucks nearby? Calculate distances between establishments of the two groups and assess distance patterns. Plot the two types of establishments on a map."
   ]
  },
  {
   "cell_type": "markdown",
   "metadata": {},
   "source": [
    "### 3.1 The most frequent business categories in the GTA"
   ]
  },
  {
   "cell_type": "code",
   "execution_count": null,
   "metadata": {},
   "outputs": [],
   "source": [
    "popular_gta = explode_categories(gta_business, 15)\n",
    "\n",
    "# select open businesses only\n",
    "gta_open = gta_business[gta_business['is_open']==1]\n",
    "popular_gta_open = explode_categories(gta_open, 15)"
   ]
  },
  {
   "cell_type": "code",
   "execution_count": null,
   "metadata": {},
   "outputs": [],
   "source": [
    "plot_stacked_h(popular_gta, popular_gta_open, \n",
    "               'b', \n",
    "               \"Number of total and open businesses in the top 15 most popular categories in GTA\")"
   ]
  },
  {
   "cell_type": "markdown",
   "metadata": {},
   "source": [
    "Again, I only considered open businesses for this part of analysis. Comparing with the top categories for all businesses, we can see that Restaurants is still by far the most popular category, but the ranking of Food rises by one in the GTA, swapping place with Shopping. While Home Services is a frequent category for all businesses, it is no longer on the top 15 list for GTA. The rankings of Beauty & Spas, Nightlife and Bars all increase for GTA businesses compared with all businesses. It may indicate that there is a larger demand for social life and entertainment in GTA than the average level in this dataset, and this result may be caused by the identity of Toronto as a metropolitan city. Compared with remote towns or rural areas in the dataset, it is reasonable that such difference arises in the Greater Toronto Area.\n",
    "\n",
    "Next, I did the same analysis on subcategories of food-related businesses."
   ]
  },
  {
   "cell_type": "code",
   "execution_count": null,
   "metadata": {},
   "outputs": [],
   "source": [
    "gta_food = gta_business[gta_business['categories'].str.contains(\n",
    "                         'Restaurants|Food', case=False, na=False)]\n",
    "\n",
    "popular_gta_food = explode_categories(gta_food, 17)\n",
    "# remove rows of 'Restaurants' and 'food'\n",
    "popular_gta_food = popular_gta_food[2:]\n",
    "\n",
    "# select open restaurants only\n",
    "gta_food_open = gta_food[gta_food['is_open']==1]\n",
    "popular_gta_food_open = explode_categories(gta_food_open, 17)\n",
    "popular_gta_food_open = popular_gta_food_open[2:]"
   ]
  },
  {
   "cell_type": "code",
   "execution_count": null,
   "metadata": {},
   "outputs": [],
   "source": [
    "plot_stacked_h(popular_gta_food, popular_gta_food_open, \n",
    "               'm', \n",
    "               \"Number of total and open businesses in the top 15 most popular food-related categories in GTA\")"
   ]
  },
  {
   "cell_type": "markdown",
   "metadata": {},
   "source": [
    "American(Traditional) and American(New) is not found on the list for GTA, but Canadian(New) appears, as expected. However, it is interesting that the ranking of Chinese food rises from 14th in all businesses to 5th in GTA businesses, which might to some extent reflect the demographic difference between GTA and the average in North America."
   ]
  },
  {
   "cell_type": "markdown",
   "metadata": {},
   "source": [
    "#### Limitations\n",
    "1. We might be missing some businesses that are actually in GTA using selection by city name. An alternative is to select by postal code, as postal code starting with 'M' and 'L' are considered to be in GTA. However, using that method, some businesses that are not in GTA might be included."
   ]
  },
  {
   "cell_type": "markdown",
   "metadata": {},
   "source": [
    "### 3.2 The Top Franchises in the GTA"
   ]
  },
  {
   "cell_type": "markdown",
   "metadata": {},
   "source": [
    "I noticed many spelling mistakes and abbrevations for business names. So I find the top 20 franchises first, and compare all of the GTA business names with the top 20 franchises using fuzzywuzzy. In particular, Tim Hortons has many different variations to be corrected."
   ]
  },
  {
   "cell_type": "code",
   "execution_count": null,
   "metadata": {},
   "outputs": [],
   "source": [
    "# find the top 20 franchises\n",
    "gta_franchise_count = gta_business[[\"name\", \"business_id\"]].groupby(\"name\").count().reset_index()\n",
    "gta_franchise_count.columns = [\"name\", \"count\"]\n",
    "gta_head = gta_franchise_count.sort_values(\"count\", ascending=False).head(20)"
   ]
  },
  {
   "cell_type": "code",
   "execution_count": null,
   "metadata": {},
   "outputs": [],
   "source": [
    "for idx, miss in gta_business.iterrows():\n",
    "    max_score = 0\n",
    "    max_index = 0\n",
    "    \n",
    "    # Compare the similarity of the incorrect city name to each correct city name \n",
    "    for i, exist in gta_head.iterrows():\n",
    "        score = fuzz.ratio(miss['name'], exist['name'])\n",
    "        \n",
    "        # iterate to find max score\n",
    "        if score > 80 and score > max_score:\n",
    "            max_score = score\n",
    "            max_index = i\n",
    "            gta_business.at[idx, 'name'] = exist['name'] "
   ]
  },
  {
   "cell_type": "code",
   "execution_count": null,
   "metadata": {},
   "outputs": [],
   "source": [
    "# check if all Tim Hortons have been fixed\n",
    "tim = gta_business[gta_business['name'].str.contains('Tim Horton', case=False, na=False)]\n",
    "# see unique names that could be Tim Hortons\n",
    "# tim['name'].unique()"
   ]
  },
  {
   "cell_type": "code",
   "execution_count": null,
   "metadata": {},
   "outputs": [],
   "source": [
    "# replace names starting with 'Tim Horton' with 'Tim Hortons'\n",
    "gta_business = gta_business.replace({'name': '^Tim Horton.*$'}, {'name': 'Tim Hortons'}, regex=True)"
   ]
  },
  {
   "cell_type": "code",
   "execution_count": null,
   "metadata": {},
   "outputs": [],
   "source": [
    "# calculate the total number again\n",
    "gta_franchise_count = gta_business[[\"name\", \"business_id\"]].groupby(\"name\").count().reset_index()\n",
    "gta_franchise_count.columns = [\"name\", \"count\"]\n",
    "gta_head = gta_franchise_count.sort_values(\"count\", ascending=False).head(15)"
   ]
  },
  {
   "cell_type": "code",
   "execution_count": null,
   "metadata": {},
   "outputs": [],
   "source": [
    "plt.figure(figsize=(12,6))\n",
    "plt.title('Top franchises in GTA',fontdict = {'fontsize' : 16})\n",
    "\n",
    "sns.barplot(x = 'count',\n",
    "            y = 'name',\n",
    "            color = 'rosybrown',\n",
    "            data = gta_head)\n",
    "\n",
    "plt.ylabel('')\n",
    "plt.xlabel('Number of businesses')\n",
    "plt.show()"
   ]
  },
  {
   "cell_type": "markdown",
   "metadata": {},
   "source": [
    "Tim Hortons, Starbucks are the top 2 franchises in GTA, with a similar number of businesses (239 for Tim Hortons and 237 for Starbucks) that are well above others. Most of the top franchises are restaurant chains, with Shoppers Drug Mart, GoodLife Fitness, and LCBO as the exceptions."
   ]
  },
  {
   "cell_type": "markdown",
   "metadata": {},
   "source": [
    "#### Limitations\n",
    "1. There are still some business names that are not corrected even with fuzzywuzzy. But since we only focus on the top franchises, and the following analysis mainly involves Tim Hortons and Starbucks, the errors will not have much effect on my results."
   ]
  },
  {
   "cell_type": "markdown",
   "metadata": {},
   "source": [
    "### 3.3 Does business location play an important role in reviews?"
   ]
  },
  {
   "cell_type": "markdown",
   "metadata": {},
   "source": [
    "For this part of analysis, I only considered businesses that are open, and there are 22647 open businesses in the GTA. First, I plotted all open businesses in GTA and color-coded the points with number of stars, but the map is not very informative, as there are too many businesses and the points are stacked over each other. Therefore, it is impossible to see any relationship between ratings and locations.\n",
    "\n",
    "Then I selected the top 500 businesses with best ratings, and the top 500 businesses with most reviews, and plotted two maps separately."
   ]
  },
  {
   "cell_type": "code",
   "execution_count": null,
   "metadata": {},
   "outputs": [],
   "source": [
    "open_business = gta_business[gta_business['is_open']==1]"
   ]
  },
  {
   "cell_type": "code",
   "execution_count": null,
   "metadata": {},
   "outputs": [],
   "source": [
    "fig = px.scatter_mapbox(open_business, lat=\"latitude\", lon=\"longitude\", hover_name=\"name\", hover_data=[\"stars\"],\n",
    "                        color='stars',color_continuous_scale=px.colors.diverging.Portland,\n",
    "                        opacity=0.1, zoom=10, height=350)\n",
    "fig.update_layout(mapbox_style=\"carto-positron\")\n",
    "fig.update_layout(margin={\"r\":0,\"t\":0,\"l\":0,\"b\":0})\n",
    "fig.show()"
   ]
  },
  {
   "cell_type": "markdown",
   "metadata": {},
   "source": [
    "<center>\n",
    "    <img src=\"map2.png\"></img>\n",
    "</center>"
   ]
  },
  {
   "cell_type": "code",
   "execution_count": null,
   "metadata": {},
   "outputs": [],
   "source": [
    "# select the top 500 businesses with best ratings\n",
    "top = open_business.sort_values('stars', ascending=False)\n",
    "top = top.head(500)"
   ]
  },
  {
   "cell_type": "code",
   "execution_count": null,
   "metadata": {},
   "outputs": [],
   "source": [
    "fig = px.scatter_mapbox(top, lat=\"latitude\", lon=\"longitude\", hover_name=\"name\", hover_data=[\"stars\"],\n",
    "                        color='review_count', \n",
    "                        color_continuous_scale=px.colors.sequential.Oryel,\n",
    "                        opacity=1, zoom=10, height=350)\n",
    "fig.update_layout(mapbox_style=\"carto-positron\")\n",
    "fig.update_layout(margin={\"r\":0,\"t\":0,\"l\":0,\"b\":0})\n",
    "fig.show()"
   ]
  },
  {
   "cell_type": "markdown",
   "metadata": {},
   "source": [
    "<center>\n",
    "    <img src=\"map3.png\"></img>\n",
    "</center>"
   ]
  },
  {
   "cell_type": "markdown",
   "metadata": {},
   "source": [
    "There are still no obvious patterns for businesses with good ratings, and they are scattered everywhere. Most of them do not have a high number of reviews either, with one exception--a coffee bar with 5 stars have more than 200 reviews, and we will investigate this case in Part 4 to see if this coffee bar is buying fake reviews, or it is actually wonderful."
   ]
  },
  {
   "cell_type": "code",
   "execution_count": null,
   "metadata": {},
   "outputs": [],
   "source": [
    "# select the top 500 businesses with most reviews\n",
    "busy = open_business.sort_values('review_count', ascending=False)\n",
    "busy = busy.head(500)"
   ]
  },
  {
   "cell_type": "code",
   "execution_count": null,
   "metadata": {},
   "outputs": [],
   "source": [
    "fig = px.scatter_mapbox(busy, lat=\"latitude\", lon=\"longitude\", hover_name=\"name\", hover_data=[\"stars\"],\n",
    "                        color='stars',\n",
    "                        color_continuous_scale=px.colors.diverging.Portland,\n",
    "                        opacity=0.9, zoom=10, height=350)\n",
    "fig.update_layout(mapbox_style=\"carto-positron\")\n",
    "fig.update_layout(margin={\"r\":0,\"t\":0,\"l\":0,\"b\":0})\n",
    "fig.show()"
   ]
  },
  {
   "cell_type": "markdown",
   "metadata": {},
   "source": [
    "<center>\n",
    "    <img src=\"map4.png\"></img>\n",
    "</center>"
   ]
  },
  {
   "cell_type": "markdown",
   "metadata": {},
   "source": [
    "For businesses with most reviews, we can see that the clustering in downtown Toronto is heavier than businesses with best ratings. Outside of downtown, there are two obvious patterns: one going south and north along Yonge Street, and the other going west and east in Markham near Highway 7. Since both of them are main road with busy traffic, it is possible that number of reviews is related to number of customers and sales."
   ]
  },
  {
   "cell_type": "markdown",
   "metadata": {},
   "source": [
    "#### Limitations\n",
    "1. We don't have the data of sales or profits, so we cannot verify the possible relationship between review counts and popularity of a business.\n",
    "2. In further analysis, we can zoom in on specific districts. For example, downtown Toronto, which has a lot of businesses. A lot of information is missed by looking at the map of the whole area, because the points are too clustered."
   ]
  },
  {
   "cell_type": "markdown",
   "metadata": {},
   "source": [
    "### 3.4 Is it true that for every Tim Hortons in the GTA there is a Starbucks nearby?"
   ]
  },
  {
   "cell_type": "markdown",
   "metadata": {},
   "source": [
    "First, I plotted all of the Tim hortons (red dots) and Starbucks (green dots) on a map. We can see that indeed the distance between red dots and green dots are very close, especially in Downtown. However, moving further away from downtown area, there seems to be more Tim Hortons than Starbucks.\n",
    "\n",
    "Next, I calculate the distance between every Tim Hortons and its nearest Starbucks."
   ]
  },
  {
   "cell_type": "code",
   "execution_count": null,
   "metadata": {},
   "outputs": [],
   "source": [
    "tim_hortons_b = gta_business[gta_business['name'] == 'Tim Hortons']\n",
    "starbucks_b = gta_business[gta_business['name'] == 'Starbucks']\n",
    "\n",
    "# only select necessary columns\n",
    "tim_hortons_b = tim_hortons_b[['latitude','longitude','business_id']]\n",
    "starbucks_b = starbucks_b[['latitude','longitude','business_id']]"
   ]
  },
  {
   "cell_type": "code",
   "execution_count": null,
   "metadata": {},
   "outputs": [],
   "source": [
    "fig = go.Figure()\n",
    "\n",
    "# plot Tim Hortons\n",
    "fig.add_trace(go.Scattermapbox(\n",
    "        lat=tim_hortons_b['latitude'],\n",
    "        lon=tim_hortons_b['longitude'],\n",
    "        mode='markers',\n",
    "        marker=go.scattermapbox.Marker(\n",
    "            size=5,\n",
    "            color='rgb(220, 15, 45)',\n",
    "            opacity=0.7\n",
    "        ),\n",
    "        hoverinfo='none'\n",
    "    ))\n",
    "\n",
    "# plot Starbucks\n",
    "fig.add_trace(go.Scattermapbox(\n",
    "        lat=starbucks_b['latitude'],\n",
    "        lon=starbucks_b['longitude'],\n",
    "        mode='markers',\n",
    "        marker=go.scattermapbox.Marker(\n",
    "            size=5,\n",
    "            color='rgb(0,112,74)',\n",
    "            opacity=0.7\n",
    "        ),\n",
    "        hoverinfo='none'\n",
    "    ))\n",
    "\n",
    "fig.update_layout(\n",
    "    title='Locations of Tim Hortons and Starbucks in the GTA',\n",
    "    autosize=True,\n",
    "    hovermode='closest',\n",
    "    showlegend=False,\n",
    "    mapbox=dict(\n",
    "        bearing=0,\n",
    "        pitch=0,\n",
    "        zoom=3,\n",
    "        style='carto-positron'\n",
    "    ),\n",
    ")\n",
    "\n",
    "fig.show()"
   ]
  },
  {
   "cell_type": "markdown",
   "metadata": {},
   "source": [
    "<center>\n",
    "    <img src=\"map5.png\"></img>\n",
    "</center>"
   ]
  },
  {
   "cell_type": "code",
   "execution_count": null,
   "metadata": {},
   "outputs": [],
   "source": [
    "def calc_distance(lat_from, lon_from, lat_to, lon_to):\n",
    "    \"\"\"\n",
    "    Calculate distance between two coordinates represented by \n",
    "    latitude and longitude, and return distance in km.\n",
    "    \"\"\"\n",
    "    coords_1 = (lat_from, lon_from)\n",
    "    coords_2 = (lat_to, lon_to)\n",
    "    distance = geopy.distance.distance(coords_1, coords_2).km\n",
    "    \n",
    "    return distance"
   ]
  },
  {
   "cell_type": "code",
   "execution_count": null,
   "metadata": {},
   "outputs": [],
   "source": [
    "distance_between = []\n",
    "for idx, store in tim_hortons_b.iterrows():\n",
    "    min_distance = 100\n",
    "    # get coordinate of Tim Hortons\n",
    "    tim_lat = tim_hortons_b.at[idx, 'latitude']\n",
    "    tim_lon = tim_hortons_b.at[idx, 'longitude']\n",
    "    \n",
    "    # iterate through every Starbucks\n",
    "    for i, starbucks in starbucks_b.iterrows():\n",
    "        star_lat = starbucks_b.at[i, 'latitude']\n",
    "        star_lon = starbucks_b.at[i, 'longitude']\n",
    "        # calculate distance between Tim Hortons and this Starbucks\n",
    "        curr = calc_distance(tim_lat, tim_lon, star_lat, star_lon)\n",
    "        \n",
    "        # iterate to get min\n",
    "        if curr < min_distance:\n",
    "            min_distance = curr\n",
    "    \n",
    "    distance_between.append(min_distance)"
   ]
  },
  {
   "cell_type": "code",
   "execution_count": null,
   "metadata": {},
   "outputs": [],
   "source": [
    "distance_between = pd.DataFrame(distance_between).rename(columns={0: \"distance\"})"
   ]
  },
  {
   "cell_type": "code",
   "execution_count": null,
   "metadata": {},
   "outputs": [],
   "source": [
    "plt.figure(figsize=(10,6))\n",
    "sns.boxplot(y=\"distance\", data=distance_between)\n",
    "plt.title(\"Distribution of distance between Tim Hortons and its nearest Starbucks\", fontdict = {'fontsize' : 16})\n",
    "plt.ylabel('Distance', fontdict = {'fontsize' : 14})\n",
    "plt.xlabel('')\n",
    "plt.show()"
   ]
  },
  {
   "cell_type": "markdown",
   "metadata": {},
   "source": [
    "From the box plot, we can see that the median distance between Tim Hortons and Starbucks is below 1 km. However, there are some outliers and the max distance is 7.92 km, which is likely to be found in rural areas. It is interesting that the min value is zero, as a Tim Hortons and Starbucks may be in the same building (e.g. Medical Sciences Building at the University of Toronto campus)."
   ]
  },
  {
   "cell_type": "markdown",
   "metadata": {},
   "source": [
    "#### Limitations\n",
    "1. We could calculate the distance of Starbucks to its nearest Tim Hortons and make a comparison.\n",
    "2. We could investigate by districts, such as separating urban areas and rural areas."
   ]
  },
  {
   "cell_type": "markdown",
   "metadata": {},
   "source": [
    "## Part 4. An Analysis on User Reviews"
   ]
  },
  {
   "cell_type": "markdown",
   "metadata": {},
   "source": [
    "Since the review file is very large, I loaded it by chunks and merged with GTA businesses data."
   ]
  },
  {
   "cell_type": "code",
   "execution_count": null,
   "metadata": {},
   "outputs": [],
   "source": [
    "# Set up local path\n",
    "review_json_path = 'review.json'"
   ]
  },
  {
   "cell_type": "code",
   "execution_count": null,
   "metadata": {},
   "outputs": [],
   "source": [
    "# Set chunk size (smaller if dataset is smaller)\n",
    "# 2019 Yelp review.json has more than 6 million reviews(rows)\n",
    "size = 1000000\n",
    "review = pd.read_json(review_json_path, lines=True,\n",
    "                      # identifying the data type of each column can reduce memory usage\n",
    "                      dtype={'review_id':str,'user_id':str,'business_id':str,'stars':int,\n",
    "                             'date':str,'text':str,'useful':int,'funny':int,'cool':int},\n",
    "                      chunksize=size)"
   ]
  },
  {
   "cell_type": "code",
   "execution_count": null,
   "metadata": {},
   "outputs": [],
   "source": [
    "# only select relavant columns\n",
    "gta_reviews = gta_business[['business_id', 'name', 'stars', 'review_count']]"
   ]
  },
  {
   "cell_type": "code",
   "execution_count": null,
   "metadata": {},
   "outputs": [],
   "source": [
    "# There are multiple chunks to be read\n",
    "chunk_list = []\n",
    "for chunk in review:\n",
    "    # Drop columns that aren't needed\n",
    "    chunk = chunk.drop(['review_id','useful','funny','cool'], axis=1)\n",
    "    # Renaming column name to avoid conflict with business overall star rating\n",
    "    chunk = chunk.rename(columns={'stars': 'review_stars'})\n",
    "    # Inner merge with edited business file so only reviews related to the business remain\n",
    "    chunk_merged = pd.merge(gta_reviews, chunk, on='business_id', how='inner')\n",
    "    # Show feedback on progress\n",
    "    # print(f\"{chunk_merged.shape[0]} out of {size:,} related reviews\")\n",
    "    chunk_list.append(chunk_merged)\n",
    "    \n",
    "# After trimming down the review file, concatenate all relevant data back to one dataframe\n",
    "df = pd.concat(chunk_list, ignore_index=True, join='outer', axis=0)\n",
    "# print(df.shape)\n",
    "# df.sample(3)"
   ]
  },
  {
   "cell_type": "code",
   "execution_count": null,
   "metadata": {},
   "outputs": [],
   "source": [
    "# save csv for later use\n",
    "# df.to_csv(\"gta_reviews.csv\", index=False)"
   ]
  },
  {
   "cell_type": "code",
   "execution_count": null,
   "metadata": {},
   "outputs": [],
   "source": [
    "# df = pd.read_csv('gta_reviews.csv')"
   ]
  },
  {
   "cell_type": "markdown",
   "metadata": {},
   "source": [
    "### 4.1 Is there a small group of users responsible for most reviews?"
   ]
  },
  {
   "cell_type": "markdown",
   "metadata": {},
   "source": [
    "There are 709928 reviews for all GTA businesses, and these reviews are written by 141973 users. "
   ]
  },
  {
   "cell_type": "code",
   "execution_count": null,
   "metadata": {},
   "outputs": [],
   "source": [
    "user_review_count = df.groupby(['user_id'])['user_id'].count().reset_index(name='count')\\\n",
    "                    .sort_values('count', ascending=False)"
   ]
  },
  {
   "cell_type": "code",
   "execution_count": null,
   "metadata": {},
   "outputs": [],
   "source": [
    "plt.figure(figsize=(8,6))\n",
    "\n",
    "# Draw the density plot\n",
    "graph = sns.distplot(user_review_count['count'], hist = False, \n",
    "                     kde = True, kde_kws = {'shade': True,'linewidth': 3})\n",
    "    \n",
    "# Plot formatting\n",
    "plt.title('Distribution of number of reviews written by each user for GTA businesses')\n",
    "plt.xlabel('Number of reviews written')\n",
    "plt.ylabel('Density')\n",
    "\n",
    "plt.show()"
   ]
  },
  {
   "cell_type": "markdown",
   "metadata": {},
   "source": [
    "From the plot of distribution, we can see that most users only wrote a few review, while there is one user who wrote over 3,000 reviews. I divided the users into four groups by number of reviews written(1, 2-10, 11-100, >100). "
   ]
  },
  {
   "cell_type": "code",
   "execution_count": null,
   "metadata": {},
   "outputs": [],
   "source": [
    "# group user by number of reviews written\n",
    "one_review_user = user_review_count[user_review_count['count'] == 1]\n",
    "ten = user_review_count.loc[(user_review_count['count'] > 1) & (user_review_count['count'] <= 10)]\n",
    "hundred = user_review_count.loc[(user_review_count['count'] > 10) & (user_review_count['count'] <= 100)]\n",
    "more_than_hundred = user_review_count[user_review_count['count'] > 100]\n",
    "\n",
    "num_review = pd.DataFrame({'user group':['1 review', '2-10 reviews', '11-100', '> 100'],\n",
    "                     'count': [len(one_review_user), len(ten),len(hundred), len(more_than_hundred)]})"
   ]
  },
  {
   "cell_type": "code",
   "execution_count": null,
   "metadata": {},
   "outputs": [],
   "source": [
    "plt.figure(figsize=(8,6))\n",
    "\n",
    "colors = ['yellowgreen', 'gold', 'lightskyblue', 'lightcoral']\n",
    "sizes = num_review['count'].to_list()\n",
    "\n",
    "plt.pie(sizes, labels=num_review['user group'], colors=colors, autopct='%1.1f%%', shadow=False, startangle=90)\n",
    "plt.axis('equal')\n",
    "plt.tight_layout()\n",
    "plt.suptitle('Proportion of number of users in each group by number of reviews', size=16, y=1.05)\n",
    "plt.show()"
   ]
  },
  {
   "cell_type": "markdown",
   "metadata": {},
   "source": [
    "More than half of the users only wrote 1 review, and more than 90% of the users wrote no more than 10 reviews. On the contrary, 0.5% users wrote over 100 reviews, and they are responsible for most reviews."
   ]
  },
  {
   "cell_type": "markdown",
   "metadata": {},
   "source": [
    "### 4.2 Do Yelp reviewers use similar language in their reviews of GTA's Tim Horton's and Starbucks?"
   ]
  },
  {
   "cell_type": "markdown",
   "metadata": {},
   "source": [
    "There are 1518 reviews written for Tim Hortons, and 2512 reviews for Starbucks. I tokenized the reviews and plotted a wordcloud for Tim Hortons and Starbucks separately."
   ]
  },
  {
   "cell_type": "code",
   "execution_count": null,
   "metadata": {},
   "outputs": [],
   "source": [
    "tim_hortons = df[df['name'] == 'Tim Hortons']\n",
    "starbucks = df[df['name'] == 'Starbucks']"
   ]
  },
  {
   "cell_type": "code",
   "execution_count": null,
   "metadata": {},
   "outputs": [],
   "source": [
    "# join all reviews to one string\n",
    "tim_text = \" \".join(review for review in tim_hortons.text)\n",
    "star_text = \" \".join(review for review in starbucks.text)"
   ]
  },
  {
   "cell_type": "code",
   "execution_count": null,
   "metadata": {},
   "outputs": [],
   "source": [
    "def tokenize_review(string):\n",
    "    '''\n",
    "    tokenize reviews and return a sentence for plotting wordcloud.\n",
    "    '''\n",
    "    from nltk.corpus import stopwords\n",
    "    \n",
    "    stop_words = set(stopwords.words('english')) \n",
    "    word_tokens = word_tokenize(string) \n",
    "  \n",
    "    filtered = [w for w in word_tokens if not w in stop_words] \n",
    "  \n",
    "    filtered = [] \n",
    "  \n",
    "    for w in word_tokens: \n",
    "        if w not in stop_words: \n",
    "            filtered.append(w) \n",
    "        \n",
    "    sentence = \" \".join(word for word in filtered)\n",
    "    return sentence"
   ]
  },
  {
   "cell_type": "code",
   "execution_count": null,
   "metadata": {},
   "outputs": [],
   "source": [
    "tim_sentence = tokenize_review(tim_text)\n",
    "star_sentence = tokenize_review(star_text)"
   ]
  },
  {
   "cell_type": "code",
   "execution_count": null,
   "metadata": {},
   "outputs": [],
   "source": [
    "stopwords = set(STOPWORDS)\n",
    "# remove words that are not informative\n",
    "stopwords.update([\"Tim Hortons\", \"Hortons\",\"Tim\",\"Tim \",\"re\",\"something\",\"going\",\"think\",\n",
    "                  \"know\",\"came\",\"try\",\"see\",\"work\",\"said\",\"give\",\"come\",\"went\",\"ll\",\"ordered\", \n",
    "                  \"Horton\", \"make\", \"flavors\", \"n't\", \"got\", \"usually\", \"really\", \"one\",\"back\",\n",
    "                  \"thing\", \"seem\", \"alway\", \"always\", \"ve\", \"go\", \"much\", \"around\", \"even\",\"way\"])\n",
    "\n",
    "plt.figure(figsize=(8,6))\n",
    "# Generate a word cloud image\n",
    "wordcloud = WordCloud(stopwords=stopwords, background_color=\"white\").generate(tim_sentence)\n",
    "\n",
    "# Display the generated image:\n",
    "# the matplotlib way:\n",
    "plt.imshow(wordcloud, interpolation='bilinear')\n",
    "plt.title('Most common words in reviews for Tim Hortons', fontdict = {'fontsize' : 18})\n",
    "#plt.rcParams.update({'font.size': 20})\n",
    "plt.axis(\"off\")\n",
    "plt.show()"
   ]
  },
  {
   "cell_type": "code",
   "execution_count": null,
   "metadata": {},
   "outputs": [],
   "source": [
    "stopwords = set(STOPWORDS)\n",
    "\n",
    "stopwords.update([\"Starbucks\",\"re\",\"something\",\"going\",\"think\",\n",
    "                  \"know\",\"came\",\"try\",\"see\",\"work\",\"said\",\"give\",\"come\",\"went\",\"ll\",\"ordered\", \n",
    "                  \"Horton\", \"make\", \"flavors\", \"n't\", \"got\", \"usually\", \"really\", \"one\",\"back\",\n",
    "                  \"thing\", \"seem\", \"alway\", \"always\", \"ve\", \"go\", \"much\", \"around\", \"even\",\"way\"])\n",
    "\n",
    "plt.figure(figsize=(8,6))\n",
    "# Generate a word cloud image\n",
    "wordcloud = WordCloud(stopwords=stopwords, background_color=\"white\").generate(star_sentence)\n",
    "\n",
    "# Display the generated image:\n",
    "# the matplotlib way:\n",
    "plt.imshow(wordcloud, interpolation='bilinear')\n",
    "plt.title('Most common words in reviews for Starbucks', fontdict = {'fontsize' : 18})\n",
    "plt.axis(\"off\")\n",
    "plt.show()"
   ]
  },
  {
   "cell_type": "markdown",
   "metadata": {},
   "source": [
    "'Location' is mentioned very frequently for both Tim Hortons and Starbucks. For Tim Hortons, we notice more specialty food (Timbits, Timmie, etc.), and for Starbucks, customers seem to comment more about services (staff, barista, etc.)"
   ]
  },
  {
   "cell_type": "markdown",
   "metadata": {},
   "source": [
    "Then I looked at users who wrote reviews for both Tim Hortons and Starbucks by matching user id, and there are 792 such users."
   ]
  },
  {
   "cell_type": "code",
   "execution_count": null,
   "metadata": {},
   "outputs": [],
   "source": [
    "# find users who wrote reviews for both\n",
    "tim_users = tim_hortons['user_id'].to_list()\n",
    "both = starbucks.loc[starbucks['user_id'].isin(tim_users)]\n",
    "\n",
    "both_user = both['user_id'].to_list()\n",
    "tim_starbucks = both.append(tim_hortons.loc[tim_hortons['user_id'].isin(both_user)])"
   ]
  },
  {
   "cell_type": "code",
   "execution_count": null,
   "metadata": {},
   "outputs": [],
   "source": [
    "tim_text_both = \" \".join(review for review in tim_starbucks[tim_starbucks['name']=='Tim Hortons'].text)\n",
    "\n",
    "tim_sentence_both = tokenize_review(tim_text_both)"
   ]
  },
  {
   "cell_type": "code",
   "execution_count": null,
   "metadata": {},
   "outputs": [],
   "source": [
    "stopwords = set(STOPWORDS)\n",
    "stopwords.update([\"Tim Hortons\", \"Hortons\",\"Tim\",\"Tim \",\"re\",\"something\",\"going\",\"think\",\n",
    "                  \"know\",\"came\",\"try\",\"see\",\"work\",\"said\",\"give\",\"come\",\"went\",\"ll\",\"ordered\", \n",
    "                  \"Horton\", \"make\", \"flavors\", \"n't\", \"got\", \"usually\", \"really\", \"one\",\"back\",\n",
    "                  \"thing\", \"seem\", \"alway\", \"always\", \"ve\", \"go\", \"much\", \"around\", \"even\",\"way\"])\n",
    "\n",
    "plt.figure(figsize=(8,6))\n",
    "# Generate a word cloud image\n",
    "wordcloud = WordCloud(stopwords=stopwords, background_color=\"white\").generate(tim_sentence_both)\n",
    "\n",
    "# Display the generated image:\n",
    "# the matplotlib way:\n",
    "plt.imshow(wordcloud, interpolation='bilinear')\n",
    "plt.title('Most common words in reviews for Tim Hortons by users who wrote review for both', \n",
    "          fontdict = {'fontsize' : 18})\n",
    "#plt.rcParams.update({'font.size': 20})\n",
    "plt.axis(\"off\")\n",
    "plt.show()"
   ]
  },
  {
   "cell_type": "code",
   "execution_count": null,
   "metadata": {},
   "outputs": [],
   "source": [
    "star_text_both = \" \".join(review for review in tim_starbucks[tim_starbucks['name']=='Starbucks'].text)\n",
    "\n",
    "star_sentence_both = tokenize_review(star_text_both)"
   ]
  },
  {
   "cell_type": "code",
   "execution_count": null,
   "metadata": {},
   "outputs": [],
   "source": [
    "stopwords = set(STOPWORDS)\n",
    "\n",
    "stopwords.update([\"Starbucks\",\"re\",\"something\",\"going\",\"think\",\n",
    "                  \"know\",\"came\",\"try\",\"see\",\"work\",\"said\",\"give\",\"come\",\"went\",\"ll\",\"ordered\", \n",
    "                  \"Horton\", \"make\", \"flavors\", \"n't\", \"got\", \"usually\", \"really\", \"one\",\"back\",\n",
    "                  \"thing\", \"seem\", \"alway\", \"always\", \"ve\", \"go\", \"much\", \"around\", \"even\",\"way\"])\n",
    "\n",
    "plt.figure(figsize=(8,6))\n",
    "# Generate a word cloud image\n",
    "wordcloud = WordCloud(stopwords=stopwords, background_color=\"white\").generate(star_sentence_both)\n",
    "\n",
    "# Display the generated image:\n",
    "# the matplotlib way:\n",
    "plt.imshow(wordcloud, interpolation='bilinear')\n",
    "plt.title('Most common words in reviews for Starbucks by users who wrote review for both', \n",
    "          fontdict = {'fontsize' : 18})\n",
    "plt.axis(\"off\")\n",
    "plt.show()"
   ]
  },
  {
   "cell_type": "markdown",
   "metadata": {},
   "source": [
    "The wordclouds are similar. So I chose to compare the average word counts of reviews with word counts of reviews written by users who wrote review for both."
   ]
  },
  {
   "cell_type": "code",
   "execution_count": null,
   "metadata": {},
   "outputs": [],
   "source": [
    "def calc_review_len(store):\n",
    "    \"\"\"\n",
    "    Calculate average word counts of reviews for a business.\n",
    "    \"\"\"\n",
    "    total = 0\n",
    "    count = 0\n",
    "\n",
    "    for idx, review in store.iterrows():\n",
    "        sentence = store.at[idx, 'text']\n",
    "        # separate words\n",
    "        words = sentence.split(' ')\n",
    "        curr = len(words)\n",
    "        total += curr\n",
    "        count += 1\n",
    "\n",
    "    return total/count        "
   ]
  },
  {
   "cell_type": "code",
   "execution_count": null,
   "metadata": {},
   "outputs": [],
   "source": [
    "print(calc_review_len(tim_hortons), calc_review_len(starbucks), \n",
    "      calc_review_len(tim_starbucks[tim_starbucks['name']=='Tim Hortons']),\n",
    "      calc_review_len(tim_starbucks[tim_starbucks['name']=='Starbucks']))"
   ]
  },
  {
   "cell_type": "markdown",
   "metadata": {},
   "source": [
    "The average word count of all reviews for Tim Hortons is 87.3, and for Starbucks is 88.7. In comparison, users who wrote reviews for both seem to write longer reviews, as the average word count for Tim Hortons is 93.0, and for Starbucks is 96.4."
   ]
  },
  {
   "cell_type": "markdown",
   "metadata": {},
   "source": [
    "#### Limitations\n",
    "1. It is questionable whether we should remove some words in the wordcloud. For example, for 'make', we don't know if it mean 'I make the decision to go' (irrelavant) or 'The baristars make drinks quickly'(relavant)."
   ]
  },
  {
   "cell_type": "markdown",
   "metadata": {},
   "source": [
    "### 4.3 Can we automatically detect \"paid reviewers\" (i.e. people who are paid to write positive reviews)?"
   ]
  },
  {
   "cell_type": "markdown",
   "metadata": {},
   "source": [
    "From the previous analysis, I noticed one shop as an anomaly with 5 stars has more than 200 reviews--Baretto Caffe, and I want to check if this shop is buying fake reviews. First, I calculated the average length of review, which is 92, similar to the length of reviews for Tim Hortons and Starbucks. This suggests no evidence for fake reviews. Then I read the actual reviews, and they look natural too, so I consider those as real reviews."
   ]
  },
  {
   "cell_type": "code",
   "execution_count": null,
   "metadata": {},
   "outputs": [],
   "source": [
    "# get the name 'baretto caffe' from label on map previously, and find its reviews\n",
    "baretto_caffe = df[df['name'] == 'Baretto Caffe']\n",
    "\n",
    "baretto_ave = calc_review_len(baretto_caffe)"
   ]
  },
  {
   "cell_type": "markdown",
   "metadata": {},
   "source": [
    "I think of several possible ways to detect paid reviews, but each has its flaws, so I was not able to implement those:\n",
    "1. A person who rated a lot of 5-stars and 5-stars only may be paid reviewers. But it is possible that they are nice and only review businesses they like.\n",
    "2. A person who only one 5 star may be paid to write the review, as it is not something they would normally do. However, more than 50% of users only wrote 1 review and it is hard to pick paid reviewers from real reviewers."
   ]
  },
  {
   "cell_type": "markdown",
   "metadata": {},
   "source": [
    "There are many caveats in determining what counts as 'paid reviewers' too. For example, a business could let their employees to write reviews, or encourage customers to write reviews by giving coupons, and it is ambigious whether such cases should be considered as 'fake reviews'. \n",
    "\n",
    "Therefore, without the labels for real/fake reviews, we cannot automatically detect them."
   ]
  },
  {
   "cell_type": "markdown",
   "metadata": {},
   "source": [
    "## Conclusion"
   ]
  },
  {
   "cell_type": "markdown",
   "metadata": {},
   "source": [
    "While this report mainly explores business and review data, a lot of them are descriptive, and we would need extra source within the Yelp dataset(e.g. checkin, user) as well as external dataset to find more useful conclusions for business owners as well as customers."
   ]
  }
 ],
 "metadata": {
  "kernelspec": {
   "display_name": "Python 3",
   "language": "python",
   "name": "python3"
  },
  "language_info": {
   "codemirror_mode": {
    "name": "ipython",
    "version": 3
   },
   "file_extension": ".py",
   "mimetype": "text/x-python",
   "name": "python",
   "nbconvert_exporter": "python",
   "pygments_lexer": "ipython3",
   "version": "3.7.4"
  }
 },
 "nbformat": 4,
 "nbformat_minor": 2
}
