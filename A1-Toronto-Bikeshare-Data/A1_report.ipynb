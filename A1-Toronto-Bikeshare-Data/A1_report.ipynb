{
 "cells": [
  {
   "cell_type": "markdown",
   "metadata": {},
   "source": [
    "*JSC270, Winter 2020 - Assignment 1, Zhiyuan Lu*\n",
    "\n",
    "# <center>  Assignment 1 - An Analysis of Toronto Bike Share Trip Lengths </center>\n",
    "\n",
    "### <center> Zhiyuan Lu, Feburary 9 </center>\n",
    "<center>  Explore the trip lengths of Toronto Bike Share, and how they are affected by variables like user type, season, and weather  </center>\n",
    "\n",
    "\n",
    "***"
   ]
  },
  {
   "cell_type": "markdown",
   "metadata": {},
   "source": [
    "## Introduction\n",
    "\n",
    "One advantage of living in downtown Toronto is the variety of ways of public transportation available, including bike sharing systems. Although I have never used Toronto Bike Share yet, there is a station right next to my residence building on campus, and another at the cross-section of Willcocks Street and St. George Street where I pass by every day. I have seen people using bikes at these stations pretty often, and it would be interesting to investigate the distribution of trip lengths, as well as how they vary with different user types and changes in season and weather.\n",
    "\n",
    "For my analysis, I use the Toronto Bikeshare Ridership Data from Open Data Catalog, and weather data from the Historical Climate Data website."
   ]
  },
  {
   "cell_type": "markdown",
   "metadata": {},
   "source": [
    "## About the Data\n",
    "### What we can and can't do with the data from the Historical Climate Data website\n",
    "\n",
    "We are allowed to use and reproduce the data for non-commercial purposes, provided that we ensure the accuracy of materials reproduced, cite the resources with the complete title and authors (where available), and provide the URL where the original document is available. We are allowed to redistribute the data if we do not charge any fee, acknowledge the source, and make sure that any other party agree to the same redistribution restrictions.\n",
    "\n",
    "We are not allowed to reproduce materials on this site, in whole or in part, for the purposes of commercial redistribution without prior written permission from the copyright administrator. We cannot rent, lease, lend, sub-licence or transfer the data product or any of our rights under this agreement to anyone else, except under the stated terms and conditions. In addition, we cannot reproduce the official symbols of the Government of Canada, including the Canada wordmark, the Arms of Canada, and the flag symbol, whether for commercial or non-commercial purposes, without prior written authorization.\n"
   ]
  },
  {
   "cell_type": "markdown",
   "metadata": {},
   "source": [
    "## Data Cleaning\n",
    "\n",
    "### Toronto Bikeshare Ridership Data\n",
    "\n",
    "The data I use is the 2016 Quarter 3, 2016 Quarter 4, and 2017 Toronto Bikeshare Ridership Data from Open Data Catalog. While combining the datasets, I noticed the following problems and limitations:\n",
    "- Inconsistent datetime format between datasets.\n",
    "- Only the name of stations are found in 2016 Q3, 2016 Q4, 2017 Q3, 2017 Q4 data.\n",
    "- Inconsistent station names (e.g. abbreviation, space between words).\n",
    "- No geospatial data recorded about the stations.\n",
    "\n",
    "I will deal with these problems through data cleaning and wrangling."
   ]
  },
  {
   "cell_type": "code",
   "execution_count": 1,
   "metadata": {},
   "outputs": [],
   "source": [
    "import datetime\n",
    "from datetime import timedelta\n",
    "from fuzzywuzzy import fuzz\n",
    "\n",
    "import matplotlib.pyplot as plt\n",
    "import pandas as pd\n",
    "import numpy as np\n",
    "from scipy import stats\n",
    "import random\n",
    "import requests\n",
    "import seaborn as sns\n",
    "\n",
    "import geopy.distance\n",
    "\n",
    "import json\n",
    "import os\n",
    "\n",
    "import pandas as pd"
   ]
  },
  {
   "cell_type": "code",
   "execution_count": null,
   "metadata": {},
   "outputs": [],
   "source": [
    "# Read 2016 data\n",
    "bike_2016_q3 = pd.read_excel('bikeshare-ridership-2016-q3.xlsx')\n",
    "bike_2016_q4 = pd.read_excel('bikeshare-ridership-2016-q4.xlsx')"
   ]
  },
  {
   "cell_type": "code",
   "execution_count": null,
   "metadata": {},
   "outputs": [],
   "source": [
    "# Convert date format to 2017 data, so that it can be matched to weather data\n",
    "date_formats = {\n",
    "    'Bikeshare Ridership (2017 Q1).csv': ['%d/%m/%Y %H:%M', -4],\n",
    "    'Bikeshare Ridership (2017 Q2).csv': ['%d/%m/%Y %H:%M', -4],\n",
    "    'Bikeshare Ridership (2017 Q3).csv': ['%m/%d/%Y %H:%M', 0],\n",
    "    'Bikeshare Ridership (2017 Q4).csv': ['%m/%d/%y %H:%M:%S', 0],\n",
    "}\n",
    "df_2017 = pd.DataFrame() # Initiate an empty DataFrame\n",
    "\n",
    "for fn, fmt in date_formats.items():\n",
    "    tmp = pd.read_csv(fn)\n",
    "    \n",
    "    # Read the datetime in the specified format\n",
    "    tmp['trip_start_time'] = pd.to_datetime(tmp['trip_start_time'], format=fmt[0], errors='coerce')\n",
    "    # Convert the input time to the Easter timezone\n",
    "    tmp['trip_start_time'] = tmp['trip_start_time'] + timedelta(hours=fmt[1])\n",
    "\n",
    "    df_2017 = pd.concat([df_2017, tmp], sort=False).reset_index(drop=True)"
   ]
  },
  {
   "cell_type": "code",
   "execution_count": null,
   "metadata": {},
   "outputs": [],
   "source": [
    "data_list = [bike_2016_q3, bike_2016_q4, df_2017]\n",
    "df = pd.concat(data_list, sort=False, ignore_index=True)\n",
    "df.sample(5)"
   ]
  },
  {
   "cell_type": "markdown",
   "metadata": {},
   "source": [
    "I will use the Bike share endpoint API to retrieve location information for the stations, and match the station IDs and names to resolve inconsistences between names. "
   ]
  },
  {
   "cell_type": "code",
   "execution_count": null,
   "metadata": {},
   "outputs": [],
   "source": [
    "r = requests.get('https://tor.publicbikesystem.net/ube/gbfs/v1/en/station_information')\n",
    "bikeshare_stations = json.loads(r.content)['data']['stations']\n",
    "bikeshare_stations = pd.DataFrame(bikeshare_stations)[['station_id', 'name', 'lat', 'lon']].astype({\n",
    "    'station_id': 'float64',\n",
    "})"
   ]
  },
  {
   "cell_type": "code",
   "execution_count": null,
   "metadata": {},
   "outputs": [],
   "source": [
    "bikeshare_stations.sample(5)"
   ]
  },
  {
   "cell_type": "code",
   "execution_count": null,
   "metadata": {},
   "outputs": [],
   "source": [
    "stations_start = df[['from_station_id', 'from_station_name']]\n",
    "stations_end = df[['to_station_id', 'to_station_name']]\n",
    "stations_start.columns = stations_end.columns = ['station_id', 'name']\n",
    "\n",
    "# Extracts the unique station ID and name combination from the from_station and to_station columns\n",
    "stations = pd.concat([stations_start, stations_end]).dropna(how='all').drop_duplicates().reset_index(drop=True)"
   ]
  },
  {
   "cell_type": "code",
   "execution_count": null,
   "metadata": {},
   "outputs": [],
   "source": [
    "stations.sample(5)"
   ]
  },
  {
   "cell_type": "markdown",
   "metadata": {},
   "source": [
    "For stations without IDs, we need to find the corresponding ID with the station name from the API data. I will use the fuzzywuzzy library to match silimar strings of station names."
   ]
  },
  {
   "cell_type": "code",
   "execution_count": null,
   "metadata": {},
   "outputs": [],
   "source": [
    "# Separate the stations without station IDs\n",
    "no_ids = stations[stations['station_id'].isnull()]\n",
    "for idx, miss in no_ids.iterrows():\n",
    "    max_score = 0\n",
    "    \n",
    "    # Compare the similarity of the station without ID to each station in the API data\n",
    "    for i, exist in bikeshare_stations[['station_id', 'name']].iterrows():\n",
    "        score = fuzz.ratio(miss['name'], exist['name'])\n",
    "        \n",
    "        if score > 80 and score > max_score:\n",
    "            max_score = score\n",
    "            no_ids.at[idx, 'station_id'] = exist['station_id']\n",
    "    \n",
    "    # Warn if the station was not able to be matched\n",
    "    if max_score <= 80:\n",
    "        print('WARN: {0} station could not be matched to an existing station'.format(miss['name']))\n",
    "\n",
    "# Remove all stations that were not matched\n",
    "no_ids = no_ids.dropna()"
   ]
  },
  {
   "cell_type": "code",
   "execution_count": null,
   "metadata": {},
   "outputs": [],
   "source": [
    "stations = pd.concat([stations[~stations['station_id'].isnull()], no_ids])\\\n",
    "             .merge(bikeshare_stations[['station_id', 'lat', 'lon']], how='inner', on='station_id')\\\n",
    "             .drop_duplicates()"
   ]
  },
  {
   "cell_type": "code",
   "execution_count": null,
   "metadata": {},
   "outputs": [],
   "source": [
    "df = df.merge(stations, how='inner', left_on='from_station_name', right_on='name') \\\n",
    "       .merge(stations, how='inner', left_on='to_station_name', right_on='name', suffixes=['_from', '_to']) \\\n",
    "       .drop_duplicates()\n",
    "\n",
    "df = df[[x for x in df.columns if not x.endswith('_station_id') and not x.endswith('_station_name') and x != 'trip_stop_time']]"
   ]
  },
  {
   "cell_type": "markdown",
   "metadata": {},
   "source": [
    "Then I can merge the station dataset with bikeshare trip data to get the starting and ending location of each trip. I used the library geopy to calculate the distance between two places with their latitudes and longitudes. Since the dataset is huge, I would only keep the variables that are useful for my analysis (`Date`, `user_type`, `trip_duration_seconds`, `distance`)."
   ]
  },
  {
   "cell_type": "code",
   "execution_count": null,
   "metadata": {},
   "outputs": [],
   "source": [
    "def calc_distance(lat_from, lon_from, lat_to, lon_to):\n",
    "    coords_1 = (lat_from, lon_from)\n",
    "    coords_2 = (lat_to, lon_to)\n",
    "    distance = geopy.distance.distance(coords_1, coords_2).m\n",
    "    \n",
    "    return distance"
   ]
  },
  {
   "cell_type": "code",
   "execution_count": null,
   "metadata": {},
   "outputs": [],
   "source": [
    "df['distance'] = df.apply(lambda x: calc_distance(x['lat_from'],x['lon_from'],x['lat_to'],x['lon_to']),axis=1)"
   ]
  },
  {
   "cell_type": "code",
   "execution_count": null,
   "metadata": {},
   "outputs": [],
   "source": [
    "df['trip_start_time'] = pd.to_datetime(df['trip_start_time'])\n",
    "df['Date'] = df['trip_start_time'].apply(lambda x: x.strftime('%Y-%m-%d'))"
   ]
  },
  {
   "cell_type": "code",
   "execution_count": null,
   "metadata": {},
   "outputs": [],
   "source": [
    "df = df[['Date', 'user_type', 'trip_duration_seconds', 'distance']] # only keep useful columns\n",
    "df = df.rename(columns={'user_type': 'user', 'trip_duration_seconds': 'duration'})"
   ]
  },
  {
   "cell_type": "code",
   "execution_count": null,
   "metadata": {},
   "outputs": [],
   "source": [
    "df.sample(5)"
   ]
  },
  {
   "cell_type": "markdown",
   "metadata": {},
   "source": [
    "### Toronto Weather Data\n",
    "\n",
    "The daily weather information in Toronto in 2017 are scraped from a Government of Canada website. Since the data are displayed by month on the website, I ran a for-loop to scrape weather data for each month. Through data cleaning, I need to solve the following problems:\n",
    "- Convert the type of numeric values.\n",
    "- Remove legends such as 'Estimated' or 'Missing'.\n",
    "\n",
    "After cleaning the bikeshare data and the weather data, I joined them to a single dataframe by matching on trip date."
   ]
  },
  {
   "cell_type": "code",
   "execution_count": null,
   "metadata": {},
   "outputs": [],
   "source": [
    "# scrape weather data\n",
    "weather = pd.DataFrame() # Initiate an empty DataFrame\n",
    "\n",
    "for i in range(1,13): # loop to scrape data of all 12 months in 2017\n",
    "    # form the link to data of a month\n",
    "    url = 'https://climate.weather.gc.ca/climate_data/daily_data_e.html?StationID=51459&timeframe=2&StartYear=1840&EndYear=2019&Day=1&Year=2017&Month=' + str(i)\n",
    "    tmp = pd.read_html(url, header=0)\n",
    "    month = tmp[0]\n",
    "    month['month'] = i # create month column\n",
    "    month = month[:-4] # remove rows of summary\n",
    "    month = month.replace('LegendTT', 'T') # clean text display\n",
    "    \n",
    "    weather = pd.concat([weather, month], sort=False).reset_index(drop=True)"
   ]
  },
  {
   "cell_type": "code",
   "execution_count": null,
   "metadata": {},
   "outputs": [],
   "source": [
    "# Create date column\n",
    "weather['year'] = 2017\n",
    "weather['Date'] = pd.to_datetime(weather[['year', 'month', 'DAY']])\n",
    "weather['Date'] = weather['Date'].apply(lambda x: x.strftime('%Y-%m-%d'))\n",
    "\n",
    "# Rename column to use more consise name\n",
    "weather = weather.rename(columns={'Max Temp Definition°C': 'Max Temp', \n",
    "                                  'Min Temp Definition°C': 'Min Temp',\n",
    "                                  'Mean Temp Definition°C': 'Mean Temp',\n",
    "                                  'Total Rain Definitionmm': 'Rain',\n",
    "                                  'Total Snow Definitioncm': 'Snow',\n",
    "                                  'Snow on Grnd Definitioncm': 'Snow depth',\n",
    "                                  'Spd of Max Gust Definitionkm/h': 'Gust'})\n",
    "\n",
    "# Only keep useful variables\n",
    "weather = weather[['Date', 'Max Temp', 'Min Temp', 'Mean Temp', 'Rain', 'Snow', 'Snow depth', 'Gust']]\n",
    "weather"
   ]
  },
  {
   "cell_type": "code",
   "execution_count": null,
   "metadata": {},
   "outputs": [],
   "source": [
    "weather = weather.replace('Legend..', '', regex=True) # remove LegendEE/LegendMM/etc.\n",
    "weather = weather.replace('T', 0.05) # use 0.05 to represent small value\n",
    "weather = weather.replace('<31', 10) # use 10 to represent gust <31\n",
    "weather = weather.replace('', np.nan)\n",
    "\n",
    "# Convert type to numeric\n",
    "num_columns = ['Max Temp', 'Min Temp', 'Mean Temp', 'Rain', 'Snow', 'Snow depth', 'Gust']\n",
    "for col in num_columns:\n",
    "    weather[col] = pd.to_numeric(weather[col], errors = 'coerce')"
   ]
  },
  {
   "cell_type": "markdown",
   "metadata": {},
   "source": [
    "Now we can merge the two datasets."
   ]
  },
  {
   "cell_type": "code",
   "execution_count": null,
   "metadata": {},
   "outputs": [],
   "source": [
    "df_w = df.merge(weather, on='Date', how='inner') # merge trip data and weather data to one dataframe"
   ]
  },
  {
   "cell_type": "code",
   "execution_count": null,
   "metadata": {},
   "outputs": [],
   "source": [
    "df_w.sample(10)"
   ]
  },
  {
   "cell_type": "markdown",
   "metadata": {},
   "source": [
    "With the cleaned datasets available, we can start our analysis."
   ]
  },
  {
   "cell_type": "markdown",
   "metadata": {},
   "source": [
    "## Two Ways to Define Trip Length\n",
    "\n",
    "When asked about how long a bike trip is, we usually think about the time taken to finish the trip, or the distance that we actually travelled. Hence, I will use the **trip duration time** and **distance** as two ways to define trip length. `Trip duration` (measured in seconds) is recorded in the original dataset, and I have created a new variable for `distance` in data cleaning. \n",
    "\n",
    "First, we can use a box plot to visualize the distribution of trip duration time and distance."
   ]
  },
  {
   "cell_type": "code",
   "execution_count": null,
   "metadata": {},
   "outputs": [],
   "source": [
    "fig, axs = plt.subplots(ncols=2, figsize=(14, 6))\n",
    "\n",
    "ax = sns.boxplot(df['duration'], ax=axs[0])\n",
    "ax.set(xlabel='duration time(seconds)',title='Distribution of trip duration')\n",
    "\n",
    "ax = sns.boxplot(df['distance'], ax=axs[1], color=\"#ff7c43\")\n",
    "ax.set(xlabel='distance(meters)',title='Distribution of trip distance')\n",
    "\n",
    "plt.show()"
   ]
  },
  {
   "cell_type": "markdown",
   "metadata": {},
   "source": [
    "There are a lot of outliers in duration, and the maximum value is over 6 million seconds (more than 73 days). The distribution of trip distance is also right-skewed. To have a better understanding of the distribution, I choose to remove outliers in each variable."
   ]
  },
  {
   "cell_type": "code",
   "execution_count": null,
   "metadata": {},
   "outputs": [],
   "source": [
    "# remove outliers in duration\n",
    "q1 = df['duration'].quantile(0.25)\n",
    "q3 = df['duration'].quantile(0.75)\n",
    "interquartile_range = q3 - q1\n",
    "lower = q1 - 1.5 * interquartile_range\n",
    "upper = q3 + 1.5 * interquartile_range\n",
    "\n",
    "df = df[~((df['duration'] < lower)|(df['duration'] > upper))].reset_index(drop=True)"
   ]
  },
  {
   "cell_type": "code",
   "execution_count": null,
   "metadata": {},
   "outputs": [],
   "source": [
    "# remove outliers in distance\n",
    "q1 = df['distance'].quantile(0.25)\n",
    "q3 = df['distance'].quantile(0.75)\n",
    "interquartile_range = q3 - q1\n",
    "lower = q1 - 1.5 * interquartile_range\n",
    "upper = q3 + 1.5 * interquartile_range\n",
    "\n",
    "df = df[~((df['distance'] < lower)|(df['distance'] > upper))].reset_index(drop=True)"
   ]
  },
  {
   "cell_type": "markdown",
   "metadata": {},
   "source": [
    "After removing the outliers, I will plot the histogram of distributions of trip duration and distance."
   ]
  },
  {
   "cell_type": "code",
   "execution_count": null,
   "metadata": {},
   "outputs": [],
   "source": [
    "fig, axs = plt.subplots(ncols=2, figsize=(14, 6))\n",
    "\n",
    "ax = sns.distplot(df['duration'], ax=axs[0])\n",
    "ax.set(xlabel='duration time(seconds)',title='Distribution of trip duration')\n",
    "\n",
    "ax = sns.distplot(df['distance'], ax=axs[1], color=\"#ff7c43\")\n",
    "ax.set(xlabel='distance(meters)',title='Distribution of trip distance')\n",
    "\n",
    "plt.show()"
   ]
  },
  {
   "cell_type": "markdown",
   "metadata": {},
   "source": [
    "In the distribution of duration time, the peak is at 500-750 seconds; and in the distribution of trip distance, the peak is at 1000-2000m. This suggests that there are many short-to-medium length trips. In both distributions, there is a lower peak at the left end, where duration is 1 second and distance is 0. It is interesting that the two distribution have very similar shapes, both slightly right-skewed, and we can use a scatter plot to further investigate the relationship between duration and distance. "
   ]
  },
  {
   "cell_type": "code",
   "execution_count": null,
   "metadata": {},
   "outputs": [],
   "source": [
    "fig, axs = plt.subplots(ncols=2, figsize=(14, 6))\n",
    "\n",
    "ax = sns.regplot(x='duration',y='distance',data=df, ax=axs[0])\n",
    "ax.set(xlabel='duration time(seconds)', ylabel='distance(meters)',\n",
    "       title='Distribution of trip duration on whole dataset')\n",
    "\n",
    "random.seed(10)\n",
    "# randomly select 5000 trips to visualize\n",
    "small_df = df.sample(n=5000)\n",
    "ax = sns.regplot(x='duration',y='distance',data=small_df, ax=axs[1])\n",
    "ax.set(xlabel='duration time(seconds)', ylabel='distance(meters)',\n",
    "       title='Distribution of trip duration on 5000 trips')\n",
    "\n",
    "plt.show()"
   ]
  },
  {
   "cell_type": "markdown",
   "metadata": {},
   "source": [
    "The graph on the left plots all of the trips. There are too many points so it is hard to get any insights on the relationship between distance and duration. However, since the points cover almost the whole grid, it shows that there are large variations between the speed of individual trips. Another interesting observation is that there is a line at duration = 1 second and distance = 0m. These points may appear due to different types of errors, such as error in docking the bike, or registration problems in the database.  \n",
    "\n",
    "To better visualize the trend, I randomly selected 5,000 points from the dataset to plot the scatter plot on the right. It shows a positive linear relationship between distance and duration."
   ]
  },
  {
   "cell_type": "code",
   "execution_count": null,
   "metadata": {},
   "outputs": [],
   "source": [
    "x = df['duration']\n",
    "y = df['distance']\n",
    "\n",
    "pearson_coef, p_value = stats.pearsonr(x, y)\n",
    "print(\"Pearson correlation coefficient: \", pearson_coef, \"and p-value: \", p_value)"
   ]
  },
  {
   "cell_type": "markdown",
   "metadata": {},
   "source": [
    "The correlation coefficient is 0.66, which suggests a relatively strong positive relationship between distance and duration. And the p-value is very low, so the relationship is significant. This is what we would expect, as it would take longer time to finish a long-distance trip. However, the correlation coefficient is not very close to 1. It is probably because that the speed of a bike trip depends on a lot of variables, such as weather, the rider's physical ability, and how familiar the rider is to this route.\n",
    "\n",
    "#### Limitations \n",
    "- We exclude outliers from this analysis, but we don't know if some of them are valid trips.\n",
    "- Due to limit in time and data, we do not compare which of the two ways to define trip length is better. It could be a question for future investigations."
   ]
  },
  {
   "cell_type": "markdown",
   "metadata": {},
   "source": [
    "## Trip Length Differences between Casual Users and Members\n",
    "\n",
    "We are interested to know if there is any difference in trip length between casual users and members, as the results may be useful for Bike Share Toronto to adjust their pricing or promotional events to increase usage. We will compare trip lengths using both definitions regarding `duration` and `distance`, and we will also use the `date` variable to select trips in July 2017. On Wednesdays, during the month of July the riders could rent a bike for up to 30 minutes without charge, and I would like to explore how this activity affects trip lengths for casual users and members.\n",
    "\n",
    "First, I will visualize the distribution of duration and distance for both user types."
   ]
  },
  {
   "cell_type": "code",
   "execution_count": null,
   "metadata": {},
   "outputs": [],
   "source": [
    "plt.figure(figsize=(8,6))\n",
    "\n",
    "member = df[df['user'] == 'Member']\n",
    "casual = df[df['user'] == 'Casual']\n",
    "\n",
    "# Draw the density plot\n",
    "graph = sns.distplot(member['duration'], hist = False, kde = True, kde_kws = {'shade': True,'linewidth': 3}, \n",
    "             label = 'Member')\n",
    "graph = sns.distplot(casual['duration'], hist = False, kde = True, kde_kws = {'shade': True,'linewidth': 3}, \n",
    "             label = 'Casual')\n",
    "graph.axvline(1800, ls = '--', c='grey', lw=0.8)\n",
    "    \n",
    "# Plot formatting\n",
    "plt.legend(prop={'size': 16}, title = 'User Type')\n",
    "plt.title('Distribution of trip durations for members and casual users')\n",
    "plt.xlabel('Duration (seconds)')\n",
    "plt.ylabel('Density')\n",
    "plt.show()"
   ]
  },
  {
   "cell_type": "code",
   "execution_count": null,
   "metadata": {},
   "outputs": [],
   "source": [
    "len(member)"
   ]
  },
  {
   "cell_type": "code",
   "execution_count": null,
   "metadata": {},
   "outputs": [],
   "source": [
    "len(member[member['duration'] > 1800])"
   ]
  },
  {
   "cell_type": "code",
   "execution_count": null,
   "metadata": {},
   "outputs": [],
   "source": [
    "2816/1566760 * 100"
   ]
  },
  {
   "cell_type": "code",
   "execution_count": null,
   "metadata": {},
   "outputs": [],
   "source": [
    "len(casual)"
   ]
  },
  {
   "cell_type": "code",
   "execution_count": null,
   "metadata": {},
   "outputs": [],
   "source": [
    "df['duration'] = pd.to_numeric(df['duration'], errors = 'coerce')\n",
    "len(casual[casual['duration'] > 1800])"
   ]
  },
  {
   "cell_type": "code",
   "execution_count": null,
   "metadata": {},
   "outputs": [],
   "source": [
    "over = casual[casual['duration'] > 1800]\n",
    "over"
   ]
  },
  {
   "cell_type": "code",
   "execution_count": null,
   "metadata": {},
   "outputs": [],
   "source": [
    "7677/354591 * 100"
   ]
  },
  {
   "cell_type": "code",
   "execution_count": null,
   "metadata": {},
   "outputs": [],
   "source": [
    "# remove outliers in duration\n",
    "q1 = df_w['duration'].quantile(0.25)\n",
    "q3 = df_w['duration'].quantile(0.75)\n",
    "interquartile_range = q3 - q1\n",
    "lower = q1 - 1.5 * interquartile_range\n",
    "upper = q3 + 1.5 * interquartile_range\n",
    "\n",
    "df_w = df_w[~((df_w['duration'] < lower)|(df_w['duration'] > upper))].reset_index(drop=True)"
   ]
  },
  {
   "cell_type": "code",
   "execution_count": null,
   "metadata": {},
   "outputs": [],
   "source": [
    "df_w.head()"
   ]
  },
  {
   "cell_type": "code",
   "execution_count": null,
   "metadata": {},
   "outputs": [],
   "source": [
    "member_w = df_w[df_w['user'] == 'Member']\n",
    "casual_w = df_w[df_w['user'] == 'Casual']\n",
    "\n",
    "print(len(member_w))\n",
    "print(len(casual_w))"
   ]
  },
  {
   "cell_type": "code",
   "execution_count": null,
   "metadata": {},
   "outputs": [],
   "source": [
    "member_w.describe()"
   ]
  },
  {
   "cell_type": "code",
   "execution_count": null,
   "metadata": {},
   "outputs": [],
   "source": [
    "casual_w.describe()"
   ]
  },
  {
   "cell_type": "code",
   "execution_count": null,
   "metadata": {},
   "outputs": [],
   "source": [
    "plt.figure(figsize=(8,6))\n",
    "\n",
    "\n",
    "# Draw the density plot\n",
    "graph = sns.distplot(member_w['duration'], hist = False, kde = True, kde_kws = {'shade': True,'linewidth': 3}, \n",
    "             label = 'Member')\n",
    "graph = sns.distplot(casual_w['duration'], hist = False, kde = True, kde_kws = {'shade': True,'linewidth': 3}, \n",
    "             label = 'Casual')\n",
    "graph.axvline(1800, ls = '--', c='grey', lw=0.8)\n",
    "    \n",
    "# Plot formatting\n",
    "plt.legend(prop={'size': 16}, title = 'User Type')\n",
    "plt.title('Distribution of trip durations for members and casual users in 2017')\n",
    "plt.xlabel('Duration (seconds)')\n",
    "plt.ylabel('Density')\n",
    "\n",
    "plt.subplots_adjust(hspace = 0, wspace = 0)\n",
    "#plt.margins(0,0)\n",
    "#plt.gca().xaxis.set_major_locator(plt.NullLocator())\n",
    "#plt.gca().yaxis.set_major_locator(plt.NullLocator())\n",
    "plt.savefig(\"duration.png\", transparent=True)"
   ]
  },
  {
   "cell_type": "code",
   "execution_count": null,
   "metadata": {},
   "outputs": [],
   "source": [
    "print(len(member_w[member_w['duration'] > 1800]))\n",
    "print(len(casual_w[casual_w['duration'] > 1800]))"
   ]
  },
  {
   "cell_type": "code",
   "execution_count": null,
   "metadata": {},
   "outputs": [],
   "source": [
    "overtime = casual_w[casual_w['duration'] > 1800]\n",
    "overtime"
   ]
  },
  {
   "cell_type": "code",
   "execution_count": null,
   "metadata": {},
   "outputs": [],
   "source": [
    "print(\"percentage of 2017 member trips with duration > 30min: \", 3230/1156634 * 100, \"%\")\n",
    "print(\"percentage of 2017 casual user trips with duration > 30min: \", 5762/245182 * 100, \"%\")\n",
    "print(\"percentage of 2017 overtime casual trips happened in July/August/September: \", 3585/5672 * 100, \"%\")"
   ]
  },
  {
   "cell_type": "code",
   "execution_count": null,
   "metadata": {},
   "outputs": [],
   "source": [
    "summer = df_w[df_w['Month'] > 6]\n",
    "summer = summer[summer['Month'] < 10]\n",
    "summer"
   ]
  },
  {
   "cell_type": "code",
   "execution_count": null,
   "metadata": {},
   "outputs": [],
   "source": [
    "member_s = summer[summer['user'] == 'Member']\n",
    "casual_s = summer[summer['user'] == 'Casual']\n",
    "\n",
    "print(len(member_s))\n",
    "print(len(casual_s))\n",
    "print(442292/1156634)\n",
    "print(153658/245182)"
   ]
  },
  {
   "cell_type": "code",
   "execution_count": null,
   "metadata": {},
   "outputs": [],
   "source": [
    "print(\"casual user trips with >30 min duration: \",len(casual_s[casual_s['duration'] > 1800]))\n",
    "print()"
   ]
  },
  {
   "cell_type": "code",
   "execution_count": null,
   "metadata": {},
   "outputs": [],
   "source": [
    "3585/5672 * 100"
   ]
  },
  {
   "cell_type": "markdown",
   "metadata": {},
   "source": [
    "We can see that the trip durations of members have a very high peak at 500 seconds. In contrast, trip durations of casual users have a flatter distribution, with a peak at about 900 seconds. The distributions of both user types also show a peak at just above 0 second, but the peak for members is tiny, while the peak for casual users is much higher."
   ]
  },
  {
   "cell_type": "code",
   "execution_count": null,
   "metadata": {},
   "outputs": [],
   "source": [
    "plt.figure(figsize=(8,6))\n",
    "\n",
    "# Draw the density plot\n",
    "sns.distplot(member['distance'], hist = False, kde = True, kde_kws = {'shade': True,'linewidth': 3}, \n",
    "             label = 'Member')\n",
    "sns.distplot(casual['distance'], hist = False, kde = True, kde_kws = {'shade': True,'linewidth': 3}, \n",
    "             label = 'Casual')\n",
    "    \n",
    "# Plot formatting\n",
    "plt.legend(prop={'size': 16}, title = 'User Type')\n",
    "plt.title('Distribution of trip distances for members and casual users')\n",
    "plt.xlabel('Distance (meters)')\n",
    "plt.ylabel('Density')\n",
    "plt.show()"
   ]
  },
  {
   "cell_type": "markdown",
   "metadata": {},
   "source": [
    "As for the distribution of trip distances, it is remarkable that the distribution of casual users have a very high peak at distance = 0, i.e. the starting station and stop station are the same. The possible reasons behind that could be:  \n",
    "- A larger proportion of casual users are first time users, who are not familiar with the renting and docking facilities. They may rent and dock the bike at the same station for several times.\n",
    "- Casual users only use the bike for special occasions, so there would be more changes in travel plan.\n",
    "\n",
    "We also notice that although there are more long trips for casual users than for members, the difference is less significant than the difference in duration time. This suggests that on average, casual users ride slower than members. On the one hand, casual users may use the bike more often for travel, while members may usually ride a bike to commute, so casual members would have more stops along the way; on the other hand, casual users may be less familiar with the route, so they would take longer time even if the trip distances are similar. \n",
    "\n",
    "Now we will have a closer look at the data in 2017 July. I choose to compare the distribution of trip distance in 2017 July with the overall distribution."
   ]
  },
  {
   "cell_type": "code",
   "execution_count": null,
   "metadata": {},
   "outputs": [],
   "source": [
    "# select trips in July by string comparison\n",
    "july = df.loc[(df['Date'] > '2017-06-30') & (df['Date'] < '2017-08-01')] \n",
    "july"
   ]
  },
  {
   "cell_type": "code",
   "execution_count": null,
   "metadata": {},
   "outputs": [],
   "source": [
    "plt.figure(figsize=(10,6))\n",
    "\n",
    "# Draw the density plot\n",
    "sns.distplot(july[july['user'] == 'Member']['distance'], hist = False, kde = True, \n",
    "             kde_kws = {'shade': False,'linewidth': 3}, \n",
    "             label = 'Member-2017 July', color='#003f5c')\n",
    "sns.distplot(member['distance'], hist = False, kde = True, kde_kws = {'shade': False,'linewidth': 3}, \n",
    "             label = 'Member-all quarters', color='#7a5195')\n",
    "sns.distplot(july[july['user'] == 'Casual']['distance'], hist = False, kde = True, \n",
    "             kde_kws = {'shade': False,'linewidth': 3}, \n",
    "             label = 'Casual-2017 July', color='#ef5675')\n",
    "sns.distplot(casual['distance'], hist = False, kde = True, kde_kws = {'shade': False,'linewidth': 3}, \n",
    "             label = 'Casual-all quarters', color='#ffa600')\n",
    "    \n",
    "# Plot formatting\n",
    "plt.legend(prop={'size': 12}, title = 'User Type')\n",
    "plt.title('Distribution of trip distances for members and casual users in 2017 July and in all quarters')\n",
    "plt.xlabel('Distance (meters)')\n",
    "plt.ylabel('Density')\n",
    "plt.show()"
   ]
  },
  {
   "cell_type": "markdown",
   "metadata": {},
   "source": [
    "We can see that there is not much difference in terms of trip distances distribution between 2017 July with the 'Free Ride Wednesday' compared with the overall distribution across all quarters. This is probably because most bikeshare stations are in Downtown Toronto, and the popular routes have similar lengths. Free trips may increase the number of total trips, but are unlikely to have a large impact on trip length."
   ]
  },
  {
   "cell_type": "markdown",
   "metadata": {},
   "source": [
    "#### Limitations\n",
    "- The analysis only compares trip lengths of members and casual users on a broad timespan. To gain more insights on trip length differences between user types, we could compare the trip lengths by each month and by weekdays/weekends in future analysis.\n",
    "- The dataset is from more than 2 years ago, and we don't know if Bikeshare Toronto user behaviours have changed in the past 2 years. It would be better if we perform the same analysis on more up-to-date data."
   ]
  },
  {
   "cell_type": "markdown",
   "metadata": {},
   "source": [
    "## Effects of Season and Weather on Trip Length"
   ]
  },
  {
   "cell_type": "markdown",
   "metadata": {},
   "source": [
    "For this part of analysis, since weather data is avaiable only for 2017 data, we would consider ridership data from 2017."
   ]
  },
  {
   "cell_type": "markdown",
   "metadata": {},
   "source": [
    "### Seasonal Change"
   ]
  },
  {
   "cell_type": "code",
   "execution_count": null,
   "metadata": {},
   "outputs": [],
   "source": [
    "# Extract month for 2017 data\n",
    "df_w['Month'] = pd.to_datetime(df_w['Date']).apply(lambda x: x.strftime('%m')).astype(int)"
   ]
  },
  {
   "cell_type": "markdown",
   "metadata": {},
   "source": [
    "I use a bar chart to visualize the mean trip distances and durations of every month in 2017."
   ]
  },
  {
   "cell_type": "code",
   "execution_count": null,
   "metadata": {},
   "outputs": [],
   "source": [
    "plt.figure(figsize=(10,6))\n",
    "dis = df_w.groupby(['Month', 'user'])['distance'].mean().reset_index().sort_values('user', ascending=False)\n",
    "dis = pd.DataFrame(dis)\n",
    "\n",
    "sns.barplot(x='Month', y='distance', hue='user', data=dis)\n",
    "\n",
    "plt.title('Distribution of mean trip distances for members and casual users in 2017 by month')\n",
    "plt.ylabel('Distance (meters)')\n",
    "plt.xlabel('Month')\n",
    "plt.show()"
   ]
  },
  {
   "cell_type": "markdown",
   "metadata": {},
   "source": [
    "We can see that the trip distance does not vary much throughout the year. The mean trip distance of casual users in July is relatively lower than other months, which is probably due to that the weather is hot, so the trips are shorter in distance."
   ]
  },
  {
   "cell_type": "code",
   "execution_count": null,
   "metadata": {},
   "outputs": [],
   "source": [
    "plt.figure(figsize=(10,6))\n",
    "dur = df_w.groupby(['Month', 'user'])['duration'].mean().reset_index().sort_values('user', ascending=False)\n",
    "dur = pd.DataFrame(dur)\n",
    "\n",
    "graph = sns.lineplot(x='Month', y='duration', hue='user', data=dur)\n",
    "graph.axhline(1800, ls = '--', c='red', lw=0.8)\n",
    "\n",
    "plt.title('Distribution of mean trip durations for members and casual users in 2017 by month')\n",
    "plt.ylim(0,2700)\n",
    "plt.ylabel('Durations (seconds)')\n",
    "plt.xlabel('Month')\n",
    "plt.show()"
   ]
  },
  {
   "cell_type": "markdown",
   "metadata": {},
   "source": [
    "For trip durations, the mean travel time of members does not vary much by month either, but the trip durations of casual users show a greater fluctuation by season. The trip duration for casual users is the shortest in winter (Jan - March), and the highest in summer (July - Sept). A possible explanation is that in summer, more people would take a trip by bike across the city as a casual user."
   ]
  },
  {
   "cell_type": "markdown",
   "metadata": {},
   "source": [
    "### Weather Change"
   ]
  },
  {
   "cell_type": "markdown",
   "metadata": {},
   "source": [
    "We will use a scatterplot to visualize the distribution of mean trip duration and distance with weather conditions of rain, snow, and gust."
   ]
  },
  {
   "cell_type": "code",
   "execution_count": null,
   "metadata": {},
   "outputs": [],
   "source": [
    "fig, axs = plt.subplots(1, 3, figsize=(14, 6), sharey=True)\n",
    " \n",
    "def addScatter(col, color, h):\n",
    "    \"\"\"\n",
    "    create a scatterplot with 3 subplots.\n",
    "    'col' is the weather to be displayed, 'color' is the color of plot,\n",
    "    'h' is the horizontal index of subplot.\n",
    "    \"\"\"\n",
    "    data = df_w.groupby(['Date'])['duration', col].mean()\n",
    "    data = pd.DataFrame(data)\n",
    "    \n",
    "    axs[h].scatter(data[col], data['duration'], c=color, alpha=0.6)\n",
    "    axs[h].set_xlabel(col)\n",
    "    axs[h].set_ylabel(\"Duration(seconds)\")\n",
    "\n",
    "addScatter('Rain',\"#ff7c43\", 0)\n",
    "addScatter('Snow', 'lightgray',1)\n",
    "addScatter('Gust', 'darkgreen',2)\n",
    "\n",
    "plt.show()"
   ]
  },
  {
   "cell_type": "markdown",
   "metadata": {},
   "source": [
    "Since a lot of days are without rain, snow, or gust, we can see a lot of points scattered at the left in every subplot. This means that on days without bad weather, the distribution of trip duration has a wide range that depends on a lot of other variables. We can see a general decreasing trend of trip duration when the precipitation of rain increases. When there is snow, how much it is snowing does not matter much, and the trip duration on snowy days are pretty low. In contrast, there seems to be not much relationship between gust and trip duration."
   ]
  },
  {
   "cell_type": "code",
   "execution_count": null,
   "metadata": {},
   "outputs": [],
   "source": [
    "fig, axs = plt.subplots(1, 3, figsize=(14, 6), sharey=True)\n",
    " \n",
    "def addScatter(col, color, h):\n",
    "    \"\"\"\n",
    "    create a scatterplot with 3 subplots.\n",
    "    'col' is the weather to be displayed, 'color' is the color of plot,\n",
    "    'h' is the horizontal index of subplot.\n",
    "    \"\"\"\n",
    "    data = df_w.groupby(['Date'])['distance', col].mean()\n",
    "    data = pd.DataFrame(data)\n",
    "    \n",
    "    axs[h].scatter(data[col], data['distance'], c=color, alpha=0.6)\n",
    "    axs[h].set_xlabel(col)\n",
    "    axs[h].set_ylabel(\"Distance(meters)\")\n",
    "\n",
    "addScatter('Rain',\"#ff7c43\", 0)\n",
    "addScatter('Snow', 'lightgray',1)\n",
    "addScatter('Gust', 'darkgreen',2)\n",
    "\n",
    "plt.show()"
   ]
  },
  {
   "cell_type": "markdown",
   "metadata": {},
   "source": [
    "When measuring trip length using distance, we can get similar conclusions as measuring with duration. However, the negative correlation between distance and total precipitation of snow is more obvious.\n",
    "\n",
    "#### Limitations\n",
    "- The effect of weather in difference seasons may be different. In future analysis, we can run the algorithm on different quarters.\n",
    "- The weather conditions on a day may not be independent. We may need to analyze using multiple variables such as temperature and precipitation at the same time to determine what might affect the mean trip length on a specific day.\n",
    "- The mean distance/duration may not be representative of the total ridership activity on one day."
   ]
  },
  {
   "cell_type": "markdown",
   "metadata": {},
   "source": [
    "## Conclusions\n",
    "\n",
    "### Results\n",
    "We can measure the trip length of Toronto Bikeshare trips using two definitions, one is trip duration time and the other is trip distance between the start station and the stop station. The two definitions are positively correlated, but is not equivalent because the speed of a trip depends on a lot of variables.\n",
    "\n",
    "The trips by casual users tend to have longer duration time than members, which may indicate different purposes to use the bike. \n",
    "\n",
    "On days of bad weather such as rain or snow, the trip duration and distance would decrease.\n",
    "\n",
    "### Ideas for Bike Share Toronto\n",
    "- The high number of trips starting and ending at the same station, especially for casual users, is an interesting phenomenon worth investigating. If it is caused by difficulty to use the facility for the same time, Bike Share Toronto may want to have more clear instructions or improve the docking facility.\n",
    "- It would be interesting to further investigate what causes the difference in trip duration between casual users and members. It is possible to infer the purpose of trips by looking at the most popular routes on the map, and explore that if casual users are using the bike share system more often for travel."
   ]
  }
 ],
 "metadata": {
  "kernelspec": {
   "display_name": "Python 3",
   "language": "python",
   "name": "python3"
  },
  "language_info": {
   "codemirror_mode": {
    "name": "ipython",
    "version": 3
   },
   "file_extension": ".py",
   "mimetype": "text/x-python",
   "name": "python",
   "nbconvert_exporter": "python",
   "pygments_lexer": "ipython3",
   "version": "3.7.4"
  }
 },
 "nbformat": 4,
 "nbformat_minor": 2
}
