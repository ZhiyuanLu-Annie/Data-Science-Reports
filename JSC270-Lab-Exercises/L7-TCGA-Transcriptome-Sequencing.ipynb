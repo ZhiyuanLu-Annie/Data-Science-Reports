{
 "cells": [
  {
   "cell_type": "markdown",
   "metadata": {},
   "source": [
    "*JSC270, Winter 2020 - Prof. Taback*\n",
    "\n",
    "# <center>  Laboratory 7.1 - \"Survival Analysis\" </center>\n",
    "## <center> Lab assignment </center>\n",
    "\n",
    "### <center> Due date: March 9, 12:00pm (noon) </center>\n",
    "<center> This assignment is a group assignment.  \n",
    "You may work with the teammate of your choice.</center>\n",
    "\n",
    "\n",
    "***\n",
    "<div style=\"background-color: #f7f7f7; padding:10px;\">\n",
    "\n",
    "<h3>  Objectives </h3>\n",
    "\n",
    "<ul>\n",
    "    <li> Understand and apply survival analysis </li>\n",
    "    <li> Understand supervised versus unsupervised learning </li>\n",
    "    <li> Gain experience applying hierarchical clustering </li>\n",
    "    <li> Gain experience working with Cancer Genomic data </li>\n",
    "</ul>\n",
    "\n",
    "<h3> Instructions </h3>\n",
    "\n",
    "<ul>\n",
    "    <li> Make a copy of this notebook using the Github Classroom link: <a href=\"https://classroom.github.com/a/bXmxTz_M\">https://classroom.github.com/a/bXmxTz_M</a>.</li>\n",
    "    <li> Answer the questions in the cells that indicate where your answers should be placed. You may remove the initial comment in the code cell. </li>\n",
    "    <li> Make sure that you explain your solutions when asked and comment your code for readability. </li>\n",
    "    <li> Commit and push changes to the Github classroom repository that has been provided (more details below).</li>\n",
    "    <li> Submit a pdf report to Quercus (more details below).</li>\n",
    "\n",
    "</div>\n",
    "\n",
    "***\n",
    "\n",
    "\n",
    "Can you identify distinct groups (biological “subtypes”) of patients with pancreas cancer, using The Cancer Genome Atlas (TCGA) transcriptome sequencing data, that have different survival times?\n",
    "### Specific Questions\n",
    "\n",
    "**Question 1.** Use hierarchical clustering to find 2 and 3 subgroups. Try at least two different linkage methods. Do you get different subgroups by trying different linkage methods? Provide a brief explanation of your results.\n"
   ]
  },
  {
   "cell_type": "code",
   "execution_count": 272,
   "metadata": {},
   "outputs": [],
   "source": [
    "import glob\n",
    "import pandas as pd\n",
    "from sklearn.cluster import AgglomerativeClustering\n",
    "from scipy.cluster.hierarchy import dendrogram\n",
    "import numpy as np\n",
    "from matplotlib import pyplot as plt\n",
    "import os\n",
    "import seaborn as sns\n",
    "from sklearn.decomposition import PCA\n",
    "from sklearn.preprocessing import StandardScaler\n",
    "import warnings\n",
    "warnings.filterwarnings('ignore')\n",
    "\n",
    "# get list of file names\n",
    "genefilenames = glob.glob('gdc_download_20200125_191127.229504/**/*.gz', recursive = True)"
   ]
  },
  {
   "cell_type": "code",
   "execution_count": 273,
   "metadata": {},
   "outputs": [],
   "source": [
    "clinical = pd.read_csv('clinical.tsv', sep = '\\t')\n",
    "gdc_sample = pd.read_csv('gdc_sample_sheet.2020-01-26.tsv', sep = '\\t')"
   ]
  },
  {
   "cell_type": "code",
   "execution_count": 274,
   "metadata": {},
   "outputs": [],
   "source": [
    "rows = []\n",
    "\n",
    "for i in range(len(genefilenames)):\n",
    "    path = genefilenames[i]\n",
    "    curr = pd.read_csv(path, sep = '\\t', names = ['gene', 'rna'], index_col='gene')\n",
    "    # calculate log of rna expression level\n",
    "    curr[\"logrna\"] = curr[\"rna\"].transform(lambda x: np.log(x+1))\n",
    "    curr = curr.drop(columns=[\"rna\"])\n",
    "    # transpose dataframe\n",
    "    curr = curr.T\n",
    "\n",
    "    # get the last part of file name, without name of directories\n",
    "    curr['File Name'] = os.path.split(path)[1]\n",
    "    # join with gdc_sample to get Case ID\n",
    "    curr = pd.merge(curr, gdc_sample, how='inner', on=['File Name'])\n",
    "    # drop unnecessary columns\n",
    "    curr = curr.drop(columns=['File ID', 'Data Category', 'Data Type', 'Sample Type', 'Project ID',\n",
    "                             'File Name', 'Sample ID'])\n",
    "    # rename column to join with clinical\n",
    "    curr = curr.rename(columns={\"Case ID\": \"submitter_id\"})\n",
    "    rows.append(curr)\n",
    "    \n",
    "# create a single dataframe    \n",
    "result = pd.concat(rows, ignore_index=True, sort=False)  "
   ]
  },
  {
   "cell_type": "code",
   "execution_count": 275,
   "metadata": {},
   "outputs": [],
   "source": [
    "# remove genes where all entries are 0\n",
    "result = result.loc[:, (result != 0).any(axis=0)]"
   ]
  },
  {
   "cell_type": "code",
   "execution_count": 276,
   "metadata": {},
   "outputs": [],
   "source": [
    "df = pd.merge(clinical.iloc[::2], result, on='submitter_id', how='inner')"
   ]
  },
  {
   "cell_type": "code",
   "execution_count": 277,
   "metadata": {},
   "outputs": [],
   "source": [
    "# code used to cluster genes (run on Google Colab to speed up with GPU)\n",
    "# transposed = result.T\n",
    "# transposed = transposed[:-1]\n",
    "# ard_clustering = AgglomerativeClustering(n_clusters = 3)\n",
    "# ward_cluster = ward_clustering.fit_predict(transposed.to_numpy()) \n",
    "# transposed[\"ward_cluster\"] = ward_cluster"
   ]
  },
  {
   "cell_type": "code",
   "execution_count": 278,
   "metadata": {},
   "outputs": [],
   "source": [
    "# read gene data that has been clustered into three groups\n",
    "gene_cluster = pd.read_csv('cluster.csv')"
   ]
  },
  {
   "cell_type": "code",
   "execution_count": 298,
   "metadata": {},
   "outputs": [
    {
     "data": {
      "text/html": [
       "<div>\n",
       "<style scoped>\n",
       "    .dataframe tbody tr th:only-of-type {\n",
       "        vertical-align: middle;\n",
       "    }\n",
       "\n",
       "    .dataframe tbody tr th {\n",
       "        vertical-align: top;\n",
       "    }\n",
       "\n",
       "    .dataframe thead th {\n",
       "        text-align: right;\n",
       "    }\n",
       "</style>\n",
       "<table border=\"1\" class=\"dataframe\">\n",
       "  <thead>\n",
       "    <tr style=\"text-align: right;\">\n",
       "      <th></th>\n",
       "      <th>gene</th>\n",
       "      <th>0</th>\n",
       "      <th>1</th>\n",
       "      <th>2</th>\n",
       "      <th>3</th>\n",
       "      <th>4</th>\n",
       "      <th>ward_cluster</th>\n",
       "    </tr>\n",
       "  </thead>\n",
       "  <tbody>\n",
       "    <tr>\n",
       "      <td>0</td>\n",
       "      <td>ENSG00000242268.2</td>\n",
       "      <td>0.000000</td>\n",
       "      <td>0.094539</td>\n",
       "      <td>0.108356</td>\n",
       "      <td>0.035278</td>\n",
       "      <td>0.000000</td>\n",
       "      <td>1</td>\n",
       "    </tr>\n",
       "    <tr>\n",
       "      <td>1</td>\n",
       "      <td>ENSG00000270112.3</td>\n",
       "      <td>0.003005</td>\n",
       "      <td>0.000000</td>\n",
       "      <td>0.003171</td>\n",
       "      <td>0.099509</td>\n",
       "      <td>0.000000</td>\n",
       "      <td>1</td>\n",
       "    </tr>\n",
       "    <tr>\n",
       "      <td>2</td>\n",
       "      <td>ENSG00000167578.15</td>\n",
       "      <td>1.372614</td>\n",
       "      <td>2.194936</td>\n",
       "      <td>1.567249</td>\n",
       "      <td>2.403033</td>\n",
       "      <td>1.481279</td>\n",
       "      <td>2</td>\n",
       "    </tr>\n",
       "    <tr>\n",
       "      <td>3</td>\n",
       "      <td>ENSG00000078237.5</td>\n",
       "      <td>1.581397</td>\n",
       "      <td>1.235283</td>\n",
       "      <td>1.451264</td>\n",
       "      <td>0.574299</td>\n",
       "      <td>1.454527</td>\n",
       "      <td>2</td>\n",
       "    </tr>\n",
       "    <tr>\n",
       "      <td>4</td>\n",
       "      <td>ENSG00000146083.10</td>\n",
       "      <td>2.754122</td>\n",
       "      <td>2.765173</td>\n",
       "      <td>2.621537</td>\n",
       "      <td>2.831057</td>\n",
       "      <td>2.441234</td>\n",
       "      <td>0</td>\n",
       "    </tr>\n",
       "  </tbody>\n",
       "</table>\n",
       "</div>"
      ],
      "text/plain": [
       "                 gene         0         1         2         3         4  \\\n",
       "0   ENSG00000242268.2  0.000000  0.094539  0.108356  0.035278  0.000000   \n",
       "1   ENSG00000270112.3  0.003005  0.000000  0.003171  0.099509  0.000000   \n",
       "2  ENSG00000167578.15  1.372614  2.194936  1.567249  2.403033  1.481279   \n",
       "3   ENSG00000078237.5  1.581397  1.235283  1.451264  0.574299  1.454527   \n",
       "4  ENSG00000146083.10  2.754122  2.765173  2.621537  2.831057  2.441234   \n",
       "\n",
       "   ward_cluster  \n",
       "0             1  \n",
       "1             1  \n",
       "2             2  \n",
       "3             2  \n",
       "4             0  "
      ]
     },
     "execution_count": 298,
     "metadata": {},
     "output_type": "execute_result"
    }
   ],
   "source": [
    "gene_cluster.head()"
   ]
  },
  {
   "cell_type": "code",
   "execution_count": 279,
   "metadata": {},
   "outputs": [],
   "source": [
    "group_1 = []\n",
    "group_2 = []\n",
    "group_3 = []\n",
    "\n",
    "# create lists of gene names in each group\n",
    "for index, row in gene_cluster.iterrows():\n",
    "    if row['ward_cluster'] == 0:\n",
    "        group_1.append(row['gene'])\n",
    "    elif row['ward_cluster'] == 1:\n",
    "        group_2.append(row['gene'])\n",
    "    elif row['ward_cluster'] == 2:\n",
    "        group_3.append(row['gene'])"
   ]
  },
  {
   "cell_type": "code",
   "execution_count": 280,
   "metadata": {},
   "outputs": [],
   "source": [
    "np.random.seed(22)"
   ]
  },
  {
   "cell_type": "code",
   "execution_count": 281,
   "metadata": {},
   "outputs": [],
   "source": [
    "# use PCA to reduce the dimension of gene data\n",
    "scaler = StandardScaler()\n",
    "# reduce dimension of data to 30\n",
    "pca =PCA(n_components= 30)\n",
    "all_genes = group_1+ group_2 + group_3\n",
    "all_genes = scaler.fit_transform(df[all_genes].to_numpy())"
   ]
  },
  {
   "cell_type": "code",
   "execution_count": 282,
   "metadata": {},
   "outputs": [],
   "source": [
    "# cluster using genes in group 1\n",
    "g1 = pca.fit_transform(all_genes[:,:len(group_1)])\n",
    "# cluster using genes in group 2\n",
    "g2 = pca.fit_transform(all_genes[:,len(group_1):len(group_1)+len(group_2)])\n",
    "# cluster using genes in group 3\n",
    "g3 = pca.fit_transform(all_genes[:,len(group_1)+len(group_2):])"
   ]
  },
  {
   "cell_type": "code",
   "execution_count": 283,
   "metadata": {},
   "outputs": [],
   "source": [
    "# use linkage method of 'ward'\n",
    "# use g3 because it performs best when clustering patients\n",
    "ward_clustering = AgglomerativeClustering(n_clusters = 2)\n",
    "ward_cluster = ward_clustering.fit_predict(g3) \n",
    "df[\"ward_cluster\"] = ward_cluster"
   ]
  },
  {
   "cell_type": "code",
   "execution_count": 284,
   "metadata": {},
   "outputs": [],
   "source": [
    "# use linkage method of 'complete'\n",
    "complete_clustering = AgglomerativeClustering(n_clusters = 2,linkage=\"complete\")\n",
    "complete_cluster = complete_clustering.fit_predict(g3) \n",
    "df[\"complete_cluster\"] = complete_cluster"
   ]
  },
  {
   "cell_type": "markdown",
   "metadata": {},
   "source": [
    "First, we cluster the genes into three groups. According to national human research institute：\n",
    ">All human beings are 99.9 percent identical in their genetic makeup. Differences in the remaining 0.1 percent hold important clues about the causes of diseases\n",
    "\n",
    "Therefore, we will only select the group of genes that best clusters the patients. We use log transform on RNA expression level. Even after removing the genes where expression level is 0 for all patients, there are still 55.399 genes left, and the dimension is too large to generate meaningful results. So we use standardization and PCA (Principal component analysis) to reduce the dimensionality."
   ]
  },
  {
   "cell_type": "markdown",
   "metadata": {},
   "source": [
    "We are using two different linkage methods, ward and complete, to find two subgroups.\n",
    "The ward linkage minimizes the variance of the clusters being merged, and the complete linkage uses the maximum distances between all observations of the two sets. The results from those two methods are presented below. We can see different subgroups by using those two linkage methods."
   ]
  },
  {
   "cell_type": "code",
   "execution_count": 285,
   "metadata": {},
   "outputs": [
    {
     "data": {
      "text/plain": [
       "complete_cluster\n",
       "0    179\n",
       "1      3\n",
       "Name: case_id, dtype: int64"
      ]
     },
     "execution_count": 285,
     "metadata": {},
     "output_type": "execute_result"
    }
   ],
   "source": [
    "df.groupby(\"complete_cluster\")[\"case_id\"].count()"
   ]
  },
  {
   "cell_type": "code",
   "execution_count": 286,
   "metadata": {},
   "outputs": [
    {
     "data": {
      "text/plain": [
       "ward_cluster\n",
       "0     73\n",
       "1    109\n",
       "Name: case_id, dtype: int64"
      ]
     },
     "execution_count": 286,
     "metadata": {},
     "output_type": "execute_result"
    }
   ],
   "source": [
    "df.groupby(\"ward_cluster\")[\"case_id\"].count()"
   ]
  },
  {
   "cell_type": "markdown",
   "metadata": {},
   "source": [
    "We believe complete clustering is affected by the noise in the data. So, we will use ward clustering for the rest of our analysis."
   ]
  },
  {
   "cell_type": "markdown",
   "metadata": {},
   "source": [
    "We draw the hierarchical clustering dendrogram to present an overview of those groups."
   ]
  },
  {
   "cell_type": "code",
   "execution_count": 287,
   "metadata": {},
   "outputs": [
    {
     "data": {
      "image/png": "[encoded data removed]",
      "text/plain": [
       "<Figure size 1152x576 with 1 Axes>"
      ]
     },
     "metadata": {},
     "output_type": "display_data"
    }
   ],
   "source": [
    "clustering = AgglomerativeClustering(distance_threshold=0,n_clusters = None,linkage=\"single\")\n",
    "model = clustering.fit(g3)\n",
    "def plot_dendrogram(model, **kwargs):\n",
    "    # Create linkage matrix and then plot the dendrogram\n",
    "\n",
    "    # create the counts of samples under each node\n",
    "    counts = np.zeros(model.children_.shape[0])\n",
    "    n_samples = len(model.labels_)\n",
    "    for i, merge in enumerate(model.children_):\n",
    "        current_count = 0\n",
    "        for child_idx in merge:\n",
    "            if child_idx < n_samples:\n",
    "                current_count += 1  # leaf node\n",
    "            else:\n",
    "                current_count += counts[child_idx - n_samples]\n",
    "        counts[i] = current_count\n",
    "\n",
    "    linkage_matrix = np.column_stack([model.children_, model.distances_,\n",
    "                                      counts]).astype(float)\n",
    "\n",
    "    # Plot the corresponding dendrogram\n",
    "    dendrogram(linkage_matrix, **kwargs)\n",
    "plt.figure(figsize = (16,8))\n",
    "plt.title('Hierarchical Clustering Dendrogram')\n",
    "# plot the top three levels of the dendrogram\n",
    "plot_dendrogram(model, truncate_mode='level', p=20)\n",
    "plt.xlabel(\"Number of points in node (or index of point if no parenthesis).\")\n",
    "plt.show()"
   ]
  },
  {
   "cell_type": "code",
   "execution_count": 288,
   "metadata": {},
   "outputs": [],
   "source": [
    "# only select useful columns to calculate survival time\n",
    "clean_df = df[['days_to_last_follow_up', 'days_to_death', 'vital_status',\"ward_cluster\"]]"
   ]
  },
  {
   "cell_type": "code",
   "execution_count": 289,
   "metadata": {},
   "outputs": [],
   "source": [
    "# choose survival time according to the status of the patient\n",
    "clean_df['days_to_death'] = (np.where(clean_df['days_to_death'] == '--',\n",
    "                                      np.NaN,clean_df['days_to_death']).astype(float))\n",
    "\n",
    "clean_df['days_to_last_follow_up'] = np.where(clean_df['days_to_last_follow_up'] == '--',\n",
    "                                              np.NaN,clean_df['days_to_last_follow_up']).astype(float)\n",
    "clean_df[\"os\"]= clean_df.apply(\n",
    "    lambda x: x[\"days_to_death\"] if (x[\"vital_status\"] == \"Dead\") else x[\"days_to_last_follow_up\"],axis=1)\n",
    "clean_df['dead'] = np.where(clean_df.vital_status == 'Alive', 0, \n",
    "                            np.where(clean_df.vital_status == 'Dead', 1, None))"
   ]
  },
  {
   "cell_type": "code",
   "execution_count": 290,
   "metadata": {},
   "outputs": [],
   "source": [
    "clean_df = clean_df.dropna(subset=[\"os\"])"
   ]
  },
  {
   "cell_type": "markdown",
   "metadata": {},
   "source": [
    "After some data wrangling and cleaning, we get the desired data frame:\n",
    "\n",
    "`vital_status`: The survival state of the person registered on the protocol.\n",
    "\n",
    "`days_to_last_follow_up`: The number of days between the date used for index and to the date the patient was lost to follow-up.\n",
    "\n",
    "`days_to_death`: Number of days between the date used for index and the date from a person's date of death represented as a calculated number of days.\n",
    "\n",
    "`ward_cluster`: The group that this patient belongs to.  \n",
    "\n",
    "`os`: Survival time\n",
    "\n",
    "`dead`: Whether the patient is dead."
   ]
  },
  {
   "cell_type": "code",
   "execution_count": 291,
   "metadata": {},
   "outputs": [
    {
     "data": {
      "text/html": [
       "<div>\n",
       "<style scoped>\n",
       "    .dataframe tbody tr th:only-of-type {\n",
       "        vertical-align: middle;\n",
       "    }\n",
       "\n",
       "    .dataframe tbody tr th {\n",
       "        vertical-align: top;\n",
       "    }\n",
       "\n",
       "    .dataframe thead th {\n",
       "        text-align: right;\n",
       "    }\n",
       "</style>\n",
       "<table border=\"1\" class=\"dataframe\">\n",
       "  <thead>\n",
       "    <tr style=\"text-align: right;\">\n",
       "      <th></th>\n",
       "      <th>days_to_last_follow_up</th>\n",
       "      <th>days_to_death</th>\n",
       "      <th>vital_status</th>\n",
       "      <th>ward_cluster</th>\n",
       "      <th>os</th>\n",
       "      <th>dead</th>\n",
       "    </tr>\n",
       "  </thead>\n",
       "  <tbody>\n",
       "    <tr>\n",
       "      <td>0</td>\n",
       "      <td>NaN</td>\n",
       "      <td>12.0</td>\n",
       "      <td>Dead</td>\n",
       "      <td>1</td>\n",
       "      <td>12.0</td>\n",
       "      <td>1</td>\n",
       "    </tr>\n",
       "    <tr>\n",
       "      <td>1</td>\n",
       "      <td>706.0</td>\n",
       "      <td>NaN</td>\n",
       "      <td>Alive</td>\n",
       "      <td>1</td>\n",
       "      <td>706.0</td>\n",
       "      <td>0</td>\n",
       "    </tr>\n",
       "    <tr>\n",
       "      <td>2</td>\n",
       "      <td>NaN</td>\n",
       "      <td>239.0</td>\n",
       "      <td>Dead</td>\n",
       "      <td>1</td>\n",
       "      <td>239.0</td>\n",
       "      <td>1</td>\n",
       "    </tr>\n",
       "    <tr>\n",
       "      <td>3</td>\n",
       "      <td>1794.0</td>\n",
       "      <td>NaN</td>\n",
       "      <td>Alive</td>\n",
       "      <td>1</td>\n",
       "      <td>1794.0</td>\n",
       "      <td>0</td>\n",
       "    </tr>\n",
       "    <tr>\n",
       "      <td>4</td>\n",
       "      <td>NaN</td>\n",
       "      <td>153.0</td>\n",
       "      <td>Dead</td>\n",
       "      <td>1</td>\n",
       "      <td>153.0</td>\n",
       "      <td>1</td>\n",
       "    </tr>\n",
       "  </tbody>\n",
       "</table>\n",
       "</div>"
      ],
      "text/plain": [
       "   days_to_last_follow_up  days_to_death vital_status  ward_cluster      os  \\\n",
       "0                     NaN           12.0         Dead             1    12.0   \n",
       "1                   706.0            NaN        Alive             1   706.0   \n",
       "2                     NaN          239.0         Dead             1   239.0   \n",
       "3                  1794.0            NaN        Alive             1  1794.0   \n",
       "4                     NaN          153.0         Dead             1   153.0   \n",
       "\n",
       "  dead  \n",
       "0    1  \n",
       "1    0  \n",
       "2    1  \n",
       "3    0  \n",
       "4    1  "
      ]
     },
     "execution_count": 291,
     "metadata": {},
     "output_type": "execute_result"
    }
   ],
   "source": [
    "clean_df.head()"
   ]
  },
  {
   "cell_type": "markdown",
   "metadata": {},
   "source": [
    "**Question 2.** What are the median survival times of the groups you found in part (a)? Provide a brief interpretation of the median survival times. Are the median survival times significantly different? Provide a brief interpretation of your results."
   ]
  },
  {
   "cell_type": "markdown",
   "metadata": {},
   "source": [
    "First, we can draw a side by side box plot for the survival time to compare their median survival time:"
   ]
  },
  {
   "cell_type": "code",
   "execution_count": 292,
   "metadata": {},
   "outputs": [
    {
     "data": {
      "image/png": "[encoded data removed]",
      "text/plain": [
       "<Figure size 432x288 with 1 Axes>"
      ]
     },
     "metadata": {},
     "output_type": "display_data"
    }
   ],
   "source": [
    "sns.set(style=\"ticks\", palette=\"pastel\")\n",
    "g = sns.boxplot(y=\"os\", x=\"ward_cluster\",data = clean_df)\n",
    "g.set_title(\"Survival Time between groups\");"
   ]
  },
  {
   "cell_type": "code",
   "execution_count": 293,
   "metadata": {},
   "outputs": [
    {
     "data": {
      "text/plain": [
       "ward_cluster\n",
       "0    463.0\n",
       "1    461.0\n",
       "Name: os, dtype: float64"
      ]
     },
     "execution_count": 293,
     "metadata": {},
     "output_type": "execute_result"
    }
   ],
   "source": [
    "clean_df.groupby(\"ward_cluster\")[\"os\"].median()"
   ]
  },
  {
   "cell_type": "markdown",
   "metadata": {},
   "source": [
    "We can see the medians of the two groups are similar. However, the survival time for group 0, in general, is higher than group 1, as the first, second, and third quantiles for group 0 are all higher than group 1."
   ]
  },
  {
   "cell_type": "markdown",
   "metadata": {},
   "source": [
    "However, from the graph, we can not tell that there is a significant different in the the median survival times."
   ]
  },
  {
   "cell_type": "markdown",
   "metadata": {},
   "source": [
    "**Question 3.** Is there is a statistical difference in survival between the subgroups you found in (a)? Explain your reasoning."
   ]
  },
  {
   "cell_type": "markdown",
   "metadata": {},
   "source": [
    "First, let's show the Kaplan-Meier Curves between those two group."
   ]
  },
  {
   "cell_type": "code",
   "execution_count": 294,
   "metadata": {},
   "outputs": [
    {
     "data": {
      "image/png": "[encoded data removed]",
      "text/plain": [
       "<Figure size 720x432 with 2 Axes>"
      ]
     },
     "metadata": {},
     "output_type": "display_data"
    }
   ],
   "source": [
    "from lifelines import KaplanMeierFitter\n",
    "from lifelines.plotting import add_at_risk_counts\n",
    "\n",
    "ward_cluster_0 = (clean_df['ward_cluster'] == 0)\n",
    "ward_cluster_1 = (clean_df['ward_cluster'] == 1)\n",
    "plt.figure(figsize=(10, 6))\n",
    "f1 = KaplanMeierFitter()\n",
    "f1.fit(clean_df['os'][ward_cluster_0], event_observed=clean_df['dead'][ward_cluster_0], label = 'ward_cluster_0')  \n",
    "ax = f1.plot(ci_show=False)\n",
    "\n",
    "f2 = KaplanMeierFitter()\n",
    "f2.fit(clean_df['os'][ward_cluster_1], event_observed=clean_df['dead'][ward_cluster_1], label = 'ward_cluster_1')  \n",
    "ax = f2.plot(ax=ax, ci_show=False)\n",
    "\n",
    "\n",
    "ax.set_title(\"Kaplan-Meier Curves for different clusters\")\n",
    "ax.set_ylabel(\"probability\")\n",
    "add_at_risk_counts(f1, f2);"
   ]
  },
  {
   "cell_type": "markdown",
   "metadata": {},
   "source": [
    "We can clearly see from the graph, the probability of estimated survival of cluster 0 is higher than cluster 1. Which indicates cluster 0 has higher probability of survival than cluster 1 in general."
   ]
  },
  {
   "cell_type": "markdown",
   "metadata": {},
   "source": [
    "We can use the logrank_test to test whether there is a statistical significance for KM survival curves between cluster 0 and cluster 1.\n",
    "\n",
    "\n",
    "The null hypothesis $H_0:$ The two KM curves are equivalent.\n",
    "\n",
    "Alternative hypothesis $H_A:$The two KM curves are different."
   ]
  },
  {
   "cell_type": "code",
   "execution_count": 295,
   "metadata": {},
   "outputs": [
    {
     "data": {
      "text/html": [
       "<div>\n",
       "<style scoped>\n",
       "    .dataframe tbody tr th:only-of-type {\n",
       "        vertical-align: middle;\n",
       "    }\n",
       "\n",
       "    .dataframe tbody tr th {\n",
       "        vertical-align: top;\n",
       "    }\n",
       "\n",
       "    .dataframe thead th {\n",
       "        text-align: right;\n",
       "    }\n",
       "</style>\n",
       "<table border=\"1\" class=\"dataframe\">\n",
       "  <tbody>\n",
       "    <tr>\n",
       "      <th>t_0</th>\n",
       "      <td>-1</td>\n",
       "    </tr>\n",
       "    <tr>\n",
       "      <th>null_distribution</th>\n",
       "      <td>chi squared</td>\n",
       "    </tr>\n",
       "    <tr>\n",
       "      <th>degrees_of_freedom</th>\n",
       "      <td>1</td>\n",
       "    </tr>\n",
       "    <tr>\n",
       "      <th>test_name</th>\n",
       "      <td>logrank_test</td>\n",
       "    </tr>\n",
       "  </tbody>\n",
       "</table>\n",
       "</div><table border=\"1\" class=\"dataframe\">\n",
       "  <thead>\n",
       "    <tr style=\"text-align: right;\">\n",
       "      <th></th>\n",
       "      <th>test_statistic</th>\n",
       "      <th>p</th>\n",
       "    </tr>\n",
       "  </thead>\n",
       "  <tbody>\n",
       "    <tr>\n",
       "      <th>0</th>\n",
       "      <td>4.60</td>\n",
       "      <td>0.03</td>\n",
       "    </tr>\n",
       "  </tbody>\n",
       "</table>"
      ],
      "text/plain": [
       "<IPython.core.display.HTML object>"
      ]
     },
     "metadata": {},
     "output_type": "display_data"
    }
   ],
   "source": [
    "from lifelines.statistics import logrank_test\n",
    "T1 = clean_df[clean_df['ward_cluster']==0]['os']\n",
    "E1 = clean_df[clean_df['ward_cluster']==0]['dead']\n",
    "\n",
    "T2 = clean_df[clean_df['ward_cluster']==1]['os']\n",
    "E2 = clean_df[clean_df['ward_cluster']==1]['dead']\n",
    "results = logrank_test(T1,T2,event_observed_A = E1, event_observed_B = E2)\n",
    "results.print_summary()"
   ]
  },
  {
   "cell_type": "markdown",
   "metadata": {},
   "source": [
    "The p-value for the groups using complete linkage is less than 0.05 (statistical threshold). It shows that the data provides strong evidence for us to reject the null hypothesis, and it is possible that the two KM curves are different for those two group, and there is a statistical difference in survival time between the subgroups."
   ]
  },
  {
   "cell_type": "markdown",
   "metadata": {},
   "source": [
    "**Question 4.** Based on your results in part (3) would you recommend that pancreas cancer patients be tested for genes that constitute the clusters you found in part (2)? Explain your reasoning."
   ]
  },
  {
   "cell_type": "markdown",
   "metadata": {},
   "source": [
    "The results in part (3) suggests that there is some correlation between survival time and level of gene expression for genes in group 3, so we would recommend that pancreas cancer patients can do a gene test. There are 7,544 genes in group 3. By looking at whether gene expression level is more similar to the patients in cluster 0 or cluster 1, different treatment may be planned accordingly. However, gene expression is a very complicated process that has a lot of variation between individuals, and are affected by many variables, so we should be cautious when interpreting the results, and preferably seek advice from a genetic consultant."
   ]
  },
  {
   "cell_type": "markdown",
   "metadata": {},
   "source": [
    " <br/> <br/>\n",
    " \n",
    " # <p style=\"background-color: #EEEEEE;text-align:center;padding-top: 15px;padding-bottom: 15px;\" >Submission and Grading </p>\n",
    " \n",
    " ## Submission \n",
    " \n",
    "1. Commit your work to the Github repository\n",
    "* include your ipynb file\n",
    "* don't forget to add additional files, if your notebook need external files to compile\n",
    "* save this notebook as an html document and commit to your repository\n",
    "\n",
    "2. Create a pdf of your notebook including the code cells (print this notebook to pdf), and upload the pdf to Quercus.\n",
    "\n",
    "## Grading\n",
    "\n",
    "The following grading scheme will be used for this assignment.\n",
    "\n",
    "Note that marks will be deduced for the following reasons: notebook doesn't compile; files are missing; instructions are not followed."
   ]
  },
  {
   "cell_type": "markdown",
   "metadata": {},
   "source": [
    "| | | Marks |\n",
    "|--- |---       |---  \n",
    "| *Question 1* | Answer is thoughtful, thorough and and clear. | 5 |\n",
    "| *Question 2* | Answer is thoughtful, thorough and and clear. | 5 |\n",
    "| *Question 3* | Answer is thoughtful, thorough and and clear. | 5 |\n",
    "| | **Total**| **15** |"
   ]
  }
 ],
 "metadata": {
  "kernelspec": {
   "display_name": "Python 3",
   "language": "python",
   "name": "python3"
  },
  "language_info": {
   "codemirror_mode": {
    "name": "ipython",
    "version": 3
   },
   "file_extension": ".py",
   "mimetype": "text/x-python",
   "name": "python",
   "nbconvert_exporter": "python",
   "pygments_lexer": "ipython3",
   "version": "3.7.4"
  },
  "latex_envs": {
   "LaTeX_envs_menu_present": true,
   "autoclose": false,
   "autocomplete": true,
   "bibliofile": "biblio.bib",
   "cite_by": "apalike",
   "current_citInitial": 1,
   "eqLabelWithNumbers": true,
   "eqNumInitial": 1,
   "hotkeys": {
    "equation": "Ctrl-E",
    "itemize": "Ctrl-I"
   },
   "labels_anchors": false,
   "latex_user_defs": false,
   "report_style_numbering": false,
   "user_envs_cfg": false
  }
 },
 "nbformat": 4,
 "nbformat_minor": 2
}
